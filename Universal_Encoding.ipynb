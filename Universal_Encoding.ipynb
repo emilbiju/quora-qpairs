{
  "nbformat": 4,
  "nbformat_minor": 0,
  "metadata": {
    "colab": {
      "name": "Universal Encoding.ipynb",
      "provenance": [],
      "collapsed_sections": [
        "GUxGjD7r6UDP"
      ]
    },
    "kernelspec": {
      "name": "python3",
      "display_name": "Python 3"
    }
  },
  "cells": [
    {
      "cell_type": "code",
      "metadata": {
        "id": "r7_mq-nLkmNo",
        "colab_type": "code",
        "colab": {
          "base_uri": "https://localhost:8080/",
          "height": 122
        },
        "outputId": "6f8e5a55-660c-4951-8ba3-11559ad6537f"
      },
      "source": [
        "#Importing necesssary modules\n",
        "from pylab import *\n",
        "import pandas as pd\n",
        "\n",
        "from sklearn.model_selection import train_test_split \n",
        "from sklearn.linear_model import LogisticRegression\n",
        "from sklearn.ensemble import RandomForestClassifier, AdaBoostClassifier\n",
        "\n",
        "#Universal encoding library\n",
        "import tensorflow as tf\n",
        "import tensorflow_hub as hub\n",
        "embed = hub.load(\"https://tfhub.dev/google/universal-sentence-encoder/4\")\n",
        "\n",
        "#Data location prefix\n",
        "from google.colab import drive\n",
        "drive.mount('/content/drive')\n",
        "prefix = '/content/drive/My Drive/EE5180/Project/'"
      ],
      "execution_count": null,
      "outputs": [
        {
          "output_type": "stream",
          "text": [
            "Go to this URL in a browser: https://accounts.google.com/o/oauth2/auth?client_id=947318989803-6bn6qk8qdgf4n4g3pfee6491hc0brc4i.apps.googleusercontent.com&redirect_uri=urn%3aietf%3awg%3aoauth%3a2.0%3aoob&response_type=code&scope=email%20https%3a%2f%2fwww.googleapis.com%2fauth%2fdocs.test%20https%3a%2f%2fwww.googleapis.com%2fauth%2fdrive%20https%3a%2f%2fwww.googleapis.com%2fauth%2fdrive.photos.readonly%20https%3a%2f%2fwww.googleapis.com%2fauth%2fpeopleapi.readonly\n",
            "\n",
            "Enter your authorization code:\n",
            "··········\n",
            "Mounted at /content/drive\n"
          ],
          "name": "stdout"
        }
      ]
    },
    {
      "cell_type": "code",
      "metadata": {
        "id": "5-1wh5qmk3QU",
        "colab_type": "code",
        "colab": {
          "base_uri": "https://localhost:8080/",
          "height": 204
        },
        "outputId": "592f450a-af4f-4794-ad20-444d093865bc"
      },
      "source": [
        "data = pd.read_csv(prefix + \"questions.csv\")\n",
        "data = data.drop(['id','qid1','qid2'],axis=1)\n",
        "\n",
        "dataArray = column_stack((data.question1,data.question2,data.is_duplicate))\n",
        "data.head()"
      ],
      "execution_count": null,
      "outputs": [
        {
          "output_type": "execute_result",
          "data": {
            "text/html": [
              "<div>\n",
              "<style scoped>\n",
              "    .dataframe tbody tr th:only-of-type {\n",
              "        vertical-align: middle;\n",
              "    }\n",
              "\n",
              "    .dataframe tbody tr th {\n",
              "        vertical-align: top;\n",
              "    }\n",
              "\n",
              "    .dataframe thead th {\n",
              "        text-align: right;\n",
              "    }\n",
              "</style>\n",
              "<table border=\"1\" class=\"dataframe\">\n",
              "  <thead>\n",
              "    <tr style=\"text-align: right;\">\n",
              "      <th></th>\n",
              "      <th>question1</th>\n",
              "      <th>question2</th>\n",
              "      <th>is_duplicate</th>\n",
              "    </tr>\n",
              "  </thead>\n",
              "  <tbody>\n",
              "    <tr>\n",
              "      <th>0</th>\n",
              "      <td>What is the step by step guide to invest in sh...</td>\n",
              "      <td>What is the step by step guide to invest in sh...</td>\n",
              "      <td>0</td>\n",
              "    </tr>\n",
              "    <tr>\n",
              "      <th>1</th>\n",
              "      <td>What is the story of Kohinoor (Koh-i-Noor) Dia...</td>\n",
              "      <td>What would happen if the Indian government sto...</td>\n",
              "      <td>0</td>\n",
              "    </tr>\n",
              "    <tr>\n",
              "      <th>2</th>\n",
              "      <td>How can I increase the speed of my internet co...</td>\n",
              "      <td>How can Internet speed be increased by hacking...</td>\n",
              "      <td>0</td>\n",
              "    </tr>\n",
              "    <tr>\n",
              "      <th>3</th>\n",
              "      <td>Why am I mentally very lonely? How can I solve...</td>\n",
              "      <td>Find the remainder when [math]23^{24}[/math] i...</td>\n",
              "      <td>0</td>\n",
              "    </tr>\n",
              "    <tr>\n",
              "      <th>4</th>\n",
              "      <td>Which one dissolve in water quikly sugar, salt...</td>\n",
              "      <td>Which fish would survive in salt water?</td>\n",
              "      <td>0</td>\n",
              "    </tr>\n",
              "  </tbody>\n",
              "</table>\n",
              "</div>"
            ],
            "text/plain": [
              "                                           question1  ... is_duplicate\n",
              "0  What is the step by step guide to invest in sh...  ...            0\n",
              "1  What is the story of Kohinoor (Koh-i-Noor) Dia...  ...            0\n",
              "2  How can I increase the speed of my internet co...  ...            0\n",
              "3  Why am I mentally very lonely? How can I solve...  ...            0\n",
              "4  Which one dissolve in water quikly sugar, salt...  ...            0\n",
              "\n",
              "[5 rows x 3 columns]"
            ]
          },
          "metadata": {
            "tags": []
          },
          "execution_count": 2
        }
      ]
    },
    {
      "cell_type": "code",
      "metadata": {
        "id": "-2F3qelw7DqZ",
        "colab_type": "code",
        "colab": {}
      },
      "source": [
        "'''#Preprocessiong\n",
        "dataVectors = []\n",
        "for w in dataArray:\n",
        "  try:\n",
        "    embeddings = embed(w[:2])\n",
        "    emdeddings = concatenate(( array(embeddings[0]),array(embeddings[1]),array([w[2]]) )) #Cocatenating embeddings of two sentences\n",
        "    dataVectors.append(embeddings)\n",
        "  except :\n",
        "    break\n",
        "dataVectors = array(dataVectors)\n",
        "dataVectors[:,-1] = 2*dataVectors[:,-1] - 1\n",
        "train_data, test_data = train_test_split(dataVectors, test_size= 0.2)\n",
        "labels_train = train_data[:,-1]; vectorData_train = train_data[:,:-1]\n",
        "labels_test = test_data[:,-1]; vectorData_test = test_data[:,:-1]'''\n"
      ],
      "execution_count": null,
      "outputs": []
    },
    {
      "cell_type": "code",
      "metadata": {
        "id": "3ROjKkU0-fPs",
        "colab_type": "code",
        "colab": {
          "base_uri": "https://localhost:8080/",
          "height": 34
        },
        "outputId": "ed2e4fa4-1731-4cbb-d05b-a8250c637da4"
      },
      "source": [
        "test_data, gg = train_test_split(dataArray, test_size= 0.9)\n",
        "rest, train_data = train_test_split(gg, test_size= 0.5)\n",
        "print(len(test_data),len(train_data))"
      ],
      "execution_count": null,
      "outputs": [
        {
          "output_type": "stream",
          "text": [
            "40435 181958\n"
          ],
          "name": "stdout"
        }
      ]
    },
    {
      "cell_type": "markdown",
      "metadata": {
        "id": "dHEed0J5n6mW",
        "colab_type": "text"
      },
      "source": [
        "# Universal encoding"
      ]
    },
    {
      "cell_type": "code",
      "metadata": {
        "id": "x6vUtloRmjAr",
        "colab_type": "code",
        "colab": {}
      },
      "source": [
        "#Preprocessiong\n",
        "vectorData_train = []; labels_train = []\n",
        "for w in train_data:\n",
        "  try:\n",
        "    embeddings = embed(w[:2])\n",
        "    emdeddings = concatenate( (array(embeddings[0]),array(embeddings[1])) ) #Cocatenating embeddings of two sentences\n",
        "    vectorData_train.append(emdeddings) \n",
        "    labels_train.append(w[2])\n",
        "  except :\n",
        "    pass\n",
        "vectorData_train = array(vectorData_train)\n",
        "labels_train = array(labels_train)\n",
        "labels_train = labels_train*2 - ones(len(labels_train))\n",
        "\n",
        "vectorData_test = []; labels_test = []\n",
        "for w in test_data:\n",
        "  try:\n",
        "    embeddings = embed(w[:2])\n",
        "    emdeddings = concatenate((array(embeddings[0]),array(embeddings[1])))\n",
        "    vectorData_test.append(emdeddings) \n",
        "    labels_test.append(w[2])\n",
        "  except:\n",
        "    pass\n",
        "vectorData_test = array(vectorData_test)\n",
        "labels_test = array(labels_test)\n",
        "labels_test = labels_test*2 - ones(len(labels_test))"
      ],
      "execution_count": null,
      "outputs": []
    },
    {
      "cell_type": "code",
      "metadata": {
        "id": "0HvLbuc1QYNP",
        "colab_type": "code",
        "colab": {
          "base_uri": "https://localhost:8080/",
          "height": 51
        },
        "outputId": "0618aeb0-9a2b-4896-c294-1874ac287ace"
      },
      "source": [
        "print( 'Size of train data:'+ str(len(vectorData_train)))\n",
        "print( 'Size of test data:'+ str(len(vectorData_test)))"
      ],
      "execution_count": null,
      "outputs": [
        {
          "output_type": "stream",
          "text": [
            "Size of train data:181957\n",
            "Size of test data:40434\n"
          ],
          "name": "stdout"
        }
      ]
    },
    {
      "cell_type": "markdown",
      "metadata": {
        "id": "BZj3HgmO6bYf",
        "colab_type": "text"
      },
      "source": [
        "## Logistic Regression"
      ]
    },
    {
      "cell_type": "code",
      "metadata": {
        "id": "QVSU0w-itMTl",
        "colab_type": "code",
        "colab": {}
      },
      "source": [
        "#Logistic Regression\n",
        "reg = LogisticRegression(max_iter=1000).fit(vectorData_train, labels_train)\n",
        "train = reg.score(vectorData_train, labels_train)\n",
        "test = reg.score(vectorData_test, labels_test)\n"
      ],
      "execution_count": null,
      "outputs": []
    },
    {
      "cell_type": "code",
      "metadata": {
        "id": "_kjLp99tT7R8",
        "colab_type": "code",
        "colab": {
          "base_uri": "https://localhost:8080/",
          "height": 51
        },
        "outputId": "d7c080c7-0788-4339-abdd-0043915d0839"
      },
      "source": [
        "print( 'Train accuracy: '+ str(100*train) + '%')\n",
        "print( 'Test accuracy: '+ str(100*test) + '%')"
      ],
      "execution_count": null,
      "outputs": [
        {
          "output_type": "stream",
          "text": [
            "Train accuracy: 72.94745461839885%\n",
            "Test accuracy: 72.58248009101251%\n"
          ],
          "name": "stdout"
        }
      ]
    },
    {
      "cell_type": "markdown",
      "metadata": {
        "id": "1ZyPcf-h6FUz",
        "colab_type": "text"
      },
      "source": [
        "## Random Forest"
      ]
    },
    {
      "cell_type": "code",
      "metadata": {
        "id": "hh9AjFG7umHt",
        "colab_type": "code",
        "colab": {
          "base_uri": "https://localhost:8080/",
          "height": 51
        },
        "outputId": "4d6713b5-049d-4fb6-ebc5-6e7c5a44a73a"
      },
      "source": [
        "#Random forest\n",
        "reg = RandomForestClassifier(max_depth = 20,random_state=0).fit(vectorData_train, labels_train)\n",
        "train = reg.score(vectorData_train, labels_train)\n",
        "test = reg.score(vectorData_test, labels_test)\n",
        "\n",
        "print( 'Train accuracy: '+ str(100*train) + '%')\n",
        "print( 'Test accuracy: '+ str(100*test) + '%')"
      ],
      "execution_count": null,
      "outputs": [
        {
          "output_type": "stream",
          "text": [
            "Train accuracy: 98.58098341915948%\n",
            "Test accuracy: 78.46614235544344%\n"
          ],
          "name": "stdout"
        }
      ]
    },
    {
      "cell_type": "markdown",
      "metadata": {
        "id": "GUxGjD7r6UDP",
        "colab_type": "text"
      },
      "source": [
        "## Bad Results"
      ]
    },
    {
      "cell_type": "code",
      "metadata": {
        "id": "EJD44SK9tSFx",
        "colab_type": "code",
        "colab": {
          "base_uri": "https://localhost:8080/",
          "height": 34
        },
        "outputId": "c08f785e-1730-45c6-cc81-d23c5be62c88"
      },
      "source": [
        "#Polynomial logistic Regression\n",
        "def transform(data,T):\n",
        "  out = data\n",
        "  for i in range(2,T+1):\n",
        "    out = concatenate((out, data**i), axis=1)\n",
        "  return out\n",
        "T=5\n",
        "reg = LogisticRegression(random_state=0,max_iter=10000).fit(transform(vectorData_train,T), labels_train)\n",
        "train = reg.score(transform(vectorData_train,T), labels_train)\n",
        "test = reg.score(transform(vectorData_test,T), labels_test)\n",
        "print(train,test)"
      ],
      "execution_count": null,
      "outputs": [
        {
          "output_type": "stream",
          "text": [
            "0.7300866571699905 0.7271145535163046\n"
          ],
          "name": "stdout"
        }
      ]
    },
    {
      "cell_type": "code",
      "metadata": {
        "id": "3WWVT3EJuULS",
        "colab_type": "code",
        "colab": {
          "base_uri": "https://localhost:8080/",
          "height": 34
        },
        "outputId": "ffe793a7-f804-43ff-e34d-48251d8e3f25"
      },
      "source": [
        "#Adaboost\n",
        "reg = AdaBoostClassifier(n_estimators=10, random_state=0).fit(vectorData_train, labels_train)\n",
        "train = reg.score(vectorData_train, labels_train)\n",
        "test = reg.score(vectorData_test, labels_test)\n",
        "print(train,test)"
      ],
      "execution_count": null,
      "outputs": [
        {
          "output_type": "stream",
          "text": [
            "0.6646980848369737 0.6642532412864118\n"
          ],
          "name": "stdout"
        }
      ]
    }
  ]
}