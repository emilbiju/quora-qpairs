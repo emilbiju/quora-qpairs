{
  "nbformat": 4,
  "nbformat_minor": 0,
  "metadata": {
    "colab": {
      "name": "Quora Question Pairs (GloVe 50d)",
      "provenance": [],
      "machine_shape": "hm"
    },
    "kernelspec": {
      "name": "python3",
      "display_name": "Python 3"
    },
    "accelerator": "GPU"
  },
  "cells": [
    {
      "cell_type": "code",
      "metadata": {
        "id": "RgKjdUzdSKkU",
        "colab_type": "code",
        "outputId": "8debdb00-614f-4339-fd19-a15430004615",
        "colab": {
          "base_uri": "https://localhost:8080/",
          "height": 316
        }
      },
      "source": [
        "# Import necessary libraries\n",
        "import numpy as np\n",
        "import pandas as pd\n",
        "import matplotlib.pyplot as plt\n",
        "% matplotlib inline\n",
        "from nltk.tokenize import word_tokenize\n",
        "% %tensorflow_version 1.x\n",
        "from keras.models import Model\n",
        "from keras.layers import Dense, Embedding, Input, Lambda, Reshape, add, dot, Activation, LSTM, GRU, Bidirectional,\\\n",
        "RepeatVector, Concatenate, Dot, Subtract, TimeDistributed, Multiply\n",
        "from keras.preprocessing.sequence import pad_sequences\n",
        "from keras.preprocessing.text import Tokenizer\n",
        "from keras.optimizers import Adam, RMSprop\n",
        "import keras.backend as K\n",
        "from pylab import *\n",
        "import pandas as pd\n",
        "import string\n",
        "import nltk\n",
        "nltk.download('punkt')\n",
        "from nltk.stem import WordNetLemmatizer\n",
        "from sklearn.model_selection import train_test_split \n",
        "\n",
        "if len(K.tensorflow_backend._get_available_gpus()) > 0:\n",
        "    from keras.layers import CuDNNLSTM as LSTM\n",
        "    from keras.layers import CuDNNGRU as GRU"
      ],
      "execution_count": 0,
      "outputs": [
        {
          "output_type": "stream",
          "text": [
            "TensorFlow 1.x selected.\n"
          ],
          "name": "stdout"
        },
        {
          "output_type": "stream",
          "text": [
            "Using TensorFlow backend.\n"
          ],
          "name": "stderr"
        },
        {
          "output_type": "stream",
          "text": [
            "[nltk_data] Downloading package punkt to /root/nltk_data...\n",
            "[nltk_data]   Unzipping tokenizers/punkt.zip.\n",
            "WARNING:tensorflow:From /usr/local/lib/python3.6/dist-packages/keras/backend/tensorflow_backend.py:190: The name tf.get_default_session is deprecated. Please use tf.compat.v1.get_default_session instead.\n",
            "\n",
            "WARNING:tensorflow:From /usr/local/lib/python3.6/dist-packages/keras/backend/tensorflow_backend.py:197: The name tf.ConfigProto is deprecated. Please use tf.compat.v1.ConfigProto instead.\n",
            "\n",
            "WARNING:tensorflow:From /usr/local/lib/python3.6/dist-packages/keras/backend/tensorflow_backend.py:203: The name tf.Session is deprecated. Please use tf.compat.v1.Session instead.\n",
            "\n",
            "WARNING:tensorflow:From /usr/local/lib/python3.6/dist-packages/keras/backend/tensorflow_backend.py:207: The name tf.global_variables is deprecated. Please use tf.compat.v1.global_variables instead.\n",
            "\n"
          ],
          "name": "stdout"
        }
      ]
    },
    {
      "cell_type": "code",
      "metadata": {
        "id": "xBSOd9x4SLwR",
        "colab_type": "code",
        "colab": {}
      },
      "source": [
        "MAX_QUESTION_LENGTH = 30\n",
        "GLOVE_EMBED = 50\n",
        "LATENT_DIM_1 = 150\n",
        "LATENT_DIM_2 = 80\n",
        "LATENT_DIM_3 = 30"
      ],
      "execution_count": 0,
      "outputs": []
    },
    {
      "cell_type": "code",
      "metadata": {
        "id": "FjXb_yNlTJ7c",
        "colab_type": "code",
        "colab": {}
      },
      "source": [
        "prefix = '/content/drive/My Drive/Quora Questions Project/' "
      ],
      "execution_count": 0,
      "outputs": []
    },
    {
      "cell_type": "code",
      "metadata": {
        "id": "vy3s3ZAISOKT",
        "colab_type": "code",
        "colab": {}
      },
      "source": [
        "lemmatizer = WordNetLemmatizer() \n",
        "data = pd.read_csv(prefix+\"questions.csv\")\n",
        "data = data.dropna() # Remove null values"
      ],
      "execution_count": 0,
      "outputs": []
    },
    {
      "cell_type": "code",
      "metadata": {
        "id": "vegPCxH58kHR",
        "colab_type": "code",
        "colab": {}
      },
      "source": [
        "data = data.drop(['id','qid1','qid2'],axis=1)"
      ],
      "execution_count": 0,
      "outputs": []
    },
    {
      "cell_type": "code",
      "metadata": {
        "id": "7HBobXrx-jDc",
        "colab_type": "code",
        "outputId": "9a9b97f2-c696-49bc-9825-b0531eb3bc85",
        "colab": {
          "base_uri": "https://localhost:8080/",
          "height": 261
        }
      },
      "source": [
        "data.head()"
      ],
      "execution_count": 0,
      "outputs": [
        {
          "output_type": "execute_result",
          "data": {
            "text/html": [
              "<div>\n",
              "<style scoped>\n",
              "    .dataframe tbody tr th:only-of-type {\n",
              "        vertical-align: middle;\n",
              "    }\n",
              "\n",
              "    .dataframe tbody tr th {\n",
              "        vertical-align: top;\n",
              "    }\n",
              "\n",
              "    .dataframe thead th {\n",
              "        text-align: right;\n",
              "    }\n",
              "</style>\n",
              "<table border=\"1\" class=\"dataframe\">\n",
              "  <thead>\n",
              "    <tr style=\"text-align: right;\">\n",
              "      <th></th>\n",
              "      <th>question1</th>\n",
              "      <th>question2</th>\n",
              "      <th>is_duplicate</th>\n",
              "    </tr>\n",
              "  </thead>\n",
              "  <tbody>\n",
              "    <tr>\n",
              "      <th>0</th>\n",
              "      <td>What is the step by step guide to invest in sh...</td>\n",
              "      <td>What is the step by step guide to invest in sh...</td>\n",
              "      <td>0</td>\n",
              "    </tr>\n",
              "    <tr>\n",
              "      <th>1</th>\n",
              "      <td>What is the story of Kohinoor (Koh-i-Noor) Dia...</td>\n",
              "      <td>What would happen if the Indian government sto...</td>\n",
              "      <td>0</td>\n",
              "    </tr>\n",
              "    <tr>\n",
              "      <th>2</th>\n",
              "      <td>How can I increase the speed of my internet co...</td>\n",
              "      <td>How can Internet speed be increased by hacking...</td>\n",
              "      <td>0</td>\n",
              "    </tr>\n",
              "    <tr>\n",
              "      <th>3</th>\n",
              "      <td>Why am I mentally very lonely? How can I solve...</td>\n",
              "      <td>Find the remainder when [math]23^{24}[/math] i...</td>\n",
              "      <td>0</td>\n",
              "    </tr>\n",
              "    <tr>\n",
              "      <th>4</th>\n",
              "      <td>Which one dissolve in water quikly sugar, salt...</td>\n",
              "      <td>Which fish would survive in salt water?</td>\n",
              "      <td>0</td>\n",
              "    </tr>\n",
              "  </tbody>\n",
              "</table>\n",
              "</div>"
            ],
            "text/plain": [
              "                                           question1  ... is_duplicate\n",
              "0  What is the step by step guide to invest in sh...  ...            0\n",
              "1  What is the story of Kohinoor (Koh-i-Noor) Dia...  ...            0\n",
              "2  How can I increase the speed of my internet co...  ...            0\n",
              "3  Why am I mentally very lonely? How can I solve...  ...            0\n",
              "4  Which one dissolve in water quikly sugar, salt...  ...            0\n",
              "\n",
              "[5 rows x 3 columns]"
            ]
          },
          "metadata": {
            "tags": []
          },
          "execution_count": 8
        }
      ]
    },
    {
      "cell_type": "code",
      "metadata": {
        "id": "SXjkMrXF_jI7",
        "colab_type": "code",
        "colab": {}
      },
      "source": [
        "g = data.groupby('is_duplicate', group_keys=False)\n",
        "data = g.apply(lambda x: x.sample(g.size().min()).reset_index()).sample(frac=0.8)"
      ],
      "execution_count": 0,
      "outputs": []
    },
    {
      "cell_type": "code",
      "metadata": {
        "id": "jsIpmP3b-gyP",
        "colab_type": "code",
        "colab": {}
      },
      "source": [
        "data = column_stack((data.question1,data.question2,data.is_duplicate))\n",
        "train_data, test_data = train_test_split(data, test_size= 0.15)\n",
        "embeddings_index = {}\n",
        "f = open(prefix+'glove.6B.50d.txt')\n",
        "for line in f:\n",
        "    values = line.split(' ')\n",
        "    word = values[0] ## The first entry is the word\n",
        "    coefs = np.asarray(values[1:], dtype='float32') ## These are the vectors representing the embedding for the word\n",
        "    embeddings_index[word] = coefs\n",
        "f.close() "
      ],
      "execution_count": 0,
      "outputs": []
    },
    {
      "cell_type": "code",
      "metadata": {
        "id": "IRDb968GSP0Q",
        "colab_type": "code",
        "outputId": "de60cc92-7fd7-45ab-dacf-b476c6c57bb4",
        "colab": {
          "base_uri": "https://localhost:8080/",
          "height": 133
        }
      },
      "source": [
        "def preProcess(doc):\n",
        "    processed = []\n",
        "    for i in range(2):\n",
        "        doc_processed = (doc[i]).lower()\n",
        "        translator = str.maketrans('','',string.punctuation)\n",
        "        doc_processed = doc_processed.translate(translator)\n",
        "        doc_processed = word_tokenize(doc_processed)\n",
        "        if len(doc_processed)>MAX_QUESTION_LENGTH: # Restrict question size to 80 words\n",
        "            return []\n",
        "        #doc_processed = [lemmatizer.lemmatize(w) for w in doc_processed]\n",
        "        vect = []\n",
        "        for word in doc_processed:\n",
        "            if word in embeddings_index:\n",
        "                vect.append(embeddings_index[word])\n",
        "            else:\n",
        "                vect.append(np.zeros(GLOVE_EMBED))\n",
        "        vect.extend([np.zeros(GLOVE_EMBED)]*(MAX_QUESTION_LENGTH-len(vect)))\n",
        "        processed.append(vect)\n",
        "        #processed.extend([np.zeros(GLOVE_EMBED)]*(MAX_QUESTION_LENGTH-len(vect)))\n",
        "    processed.append(doc[2])\n",
        "    return processed\n",
        "\n",
        "print(train_data[0,:])\n",
        "# print(preProcess(train_data[0,:]))  "
      ],
      "execution_count": 0,
      "outputs": [
        {
          "output_type": "stream",
          "text": [
            "['Where can I run C++ programs online?'\n",
            " 'How can I run C++ programs online?' 1]\n"
          ],
          "name": "stdout"
        }
      ]
    },
    {
      "cell_type": "code",
      "metadata": {
        "id": "gXEIPsGeSRiN",
        "colab_type": "code",
        "colab": {}
      },
      "source": [
        "train_vecs = []\n",
        "for i in range(len(train_data)):\n",
        "    train_vecs.append(preProcess(train_data[i,:])) \n",
        "train_vecs = [x for x in train_vecs if x] # remove all empty lists\n",
        "\n",
        "# Preparing data for passing into keras model\n",
        "X_train_1 = []\n",
        "X_train_2 = []\n",
        "y_train = []\n",
        "\n",
        "for i in range(len(train_vecs)):\n",
        "    X_train_1.append(train_vecs[i][0])\n",
        "    X_train_2.append(train_vecs[i][1])\n",
        "    y_train.append(train_vecs[i][2])\n",
        "\n",
        "X_train_1 = np.array(X_train_1)\n",
        "X_train_2 = np.array(X_train_2)\n",
        "y_train = np.array(y_train)"
      ],
      "execution_count": 0,
      "outputs": []
    },
    {
      "cell_type": "code",
      "metadata": {
        "id": "BCX-K2EASTDH",
        "colab_type": "code",
        "colab": {}
      },
      "source": [
        "test_vecs = []\n",
        "for i in range(len(test_data)):\n",
        "    test_vecs.append(preProcess(test_data[i,:])) \n",
        "test_vecs = [x for x in test_vecs if x] # remove all empty lists\n",
        "\n",
        "# Preparing data for passing into keras model\n",
        "X_test_1 = []\n",
        "X_test_2 = []\n",
        "y_test = []\n",
        "\n",
        "for i in range(len(test_vecs)):\n",
        "    X_test_1.append(test_vecs[i][0])\n",
        "    X_test_2.append(test_vecs[i][1])\n",
        "    y_test.append(test_vecs[i][2])\n",
        "\n",
        "X_test_1 = np.array(X_test_1)\n",
        "X_test_2 = np.array(X_test_2)\n",
        "y_test = np.array(y_test)"
      ],
      "execution_count": 0,
      "outputs": []
    },
    {
      "cell_type": "code",
      "metadata": {
        "id": "wo6TnEaASWxa",
        "colab_type": "code",
        "outputId": "31498a64-d641-4443-f0df-85adf537cbeb",
        "colab": {
          "base_uri": "https://localhost:8080/",
          "height": 153
        }
      },
      "source": [
        "# Model\n",
        "LATENT_DIM_1 = 25\n",
        "# Taking glove embedding inputs\n",
        "input_1 = Input(shape=(MAX_QUESTION_LENGTH, GLOVE_EMBED))\n",
        "input_2 = Input(shape=(MAX_QUESTION_LENGTH, GLOVE_EMBED))\n",
        "\n",
        "# 2 Bidirectional LSTM layers for each question\n",
        "lstm_11 = Bidirectional(LSTM(LATENT_DIM_1, return_sequences = True))(input_1)\n",
        "print(lstm_11.shape)\n",
        "# lstm_21 = Bidirectional(LSTM(LATENT_DIM_2, return_sequences = True))(lstm_11)\n",
        "# print(lstm_21.shape)\n",
        "# lstm_31 = Bidirectional(LSTM(LATENT_DIM_3, return_sequences = True))(lstm_21)\n",
        "# print(lstm_31.shape)\n",
        "avg_1 = Lambda(lambda x:K.mean(x, axis=1))(lstm_11)\n",
        "avg_1 = Reshape((50,))(avg_1)\n",
        "print(avg_1.shape)\n",
        "\n",
        "lstm_12 = Bidirectional(LSTM(LATENT_DIM_1, return_sequences = True))(input_2)\n",
        "# lstm_22 = Bidirectional(LSTM(LATENT_DIM_2, return_sequences = True))(lstm_12)\n",
        "# lstm_32 = Bidirectional(LSTM(LATENT_DIM_3, return_sequences = True))(lstm_22)\n",
        "avg_2 = Lambda(lambda x:K.mean(x, axis=1))(lstm_12)\n",
        "avg_2 = Reshape((50,))(avg_2)\n",
        "\n",
        "diff = Subtract()([avg_1, avg_2])\n",
        "print(diff.shape)\n",
        "dot_layer = Multiply()([avg_1,avg_2])\n",
        "print(dot_layer.shape)\n",
        "sub = Concatenate(axis=1)([avg_1, avg_2,diff,dot_layer])\n",
        "print(sub.shape)\n",
        "dense = Dense(50, activation='tanh')(sub)\n",
        "print(dense.shape) \n",
        "dense = Dense(1, activation='sigmoid')(sub)\n",
        "print(dense.shape) \n",
        "\n",
        "model = Model([input_1, input_2],dense)\n",
        "model.compile(optimizer=Adam(lr=0.003), loss='binary_crossentropy', metrics=['accuracy'])\n",
        "# model.fit(input_array[:12000], target_array[:12000], batch_size = 256, epochs=20, validation_split=0.2)"
      ],
      "execution_count": 0,
      "outputs": [
        {
          "output_type": "stream",
          "text": [
            "(?, 30, 50)\n",
            "(?, 50)\n",
            "(?, 50)\n",
            "(?, 50)\n",
            "(?, 200)\n",
            "(?, 50)\n",
            "(?, 1)\n"
          ],
          "name": "stdout"
        }
      ]
    },
    {
      "cell_type": "code",
      "metadata": {
        "id": "QFMODI73NB9D",
        "colab_type": "code",
        "colab": {}
      },
      "source": [
        "model.fit([X_train_1,X_train_2], 1-y_train, batch_size = 256, epochs=15, validation_split=0.1) "
      ],
      "execution_count": 0,
      "outputs": []
    },
    {
      "cell_type": "code",
      "metadata": {
        "id": "U-WmrjlYUkV9",
        "colab_type": "code",
        "colab": {}
      },
      "source": [
        "model.save_weights('quora_1.h5')"
      ],
      "execution_count": 0,
      "outputs": []
    },
    {
      "cell_type": "code",
      "metadata": {
        "id": "Hz-29AkzG47Y",
        "colab_type": "code",
        "colab": {}
      },
      "source": [
        "y_preds = model.predict([X_test_1, X_test_2])"
      ],
      "execution_count": 0,
      "outputs": []
    },
    {
      "cell_type": "code",
      "metadata": {
        "id": "FNYt5CX2HDOr",
        "colab_type": "code",
        "outputId": "4dc5d4ac-0826-4ffd-f8db-3dbf320b4f97",
        "colab": {
          "base_uri": "https://localhost:8080/",
          "height": 114
        }
      },
      "source": [
        "crr=0\n",
        "thresh=.51\n",
        "for i in range(len(y_preds)):\n",
        "    if y_preds[i]>=thresh:\n",
        "        if 1-y_test[i]==1:\n",
        "            crr+=1\n",
        "    else:\n",
        "        if 1-y_test[i]==0:\n",
        "            crr+=1\n",
        "print(\"Accuracy = {}%\".format(100*np.round(crr/len(y_preds),4)))"
      ],
      "execution_count": 0,
      "outputs": [
        {
          "output_type": "stream",
          "text": [
            "Accuracy = 75.51%\n"
          ],
          "name": "stdout"
        }
      ]
    },
    {
      "cell_type": "code",
      "metadata": {
        "id": "Tpuxx5PrNyU2",
        "colab_type": "code",
        "colab": {}
      },
      "source": [
        "# # Model\n",
        "\n",
        "# # Taking glove embedding inputs\n",
        "# input_1 = Input(shape=(MAX_QUESTION_LENGTH, GLOVE_EMBED))\n",
        "# input_2 = Input(shape=(MAX_QUESTION_LENGTH, GLOVE_EMBED))\n",
        "\n",
        "# # 2 Bidirectional LSTM layers for each question\n",
        "# lstm_11, h,c = LSTM(20, return_state = True)(input_1)\n",
        "# print(lstm_11.shape)\n",
        "# # lstm_21 = Bidirectional(LSTM(LATENT_DIM_2, return_sequences = True))(lstm_11)\n",
        "# # print(lstm_21.shape)\n",
        "# # lstm_31 = Bidirectional(LSTM(LATENT_DIM_3, return_sequences = True))(lstm_21)\n",
        "# # print(lstm_31.shape)\n",
        "\n",
        "# lstm_12,h,c = LSTM(20, return_state = True)(input_2)\n",
        "# # lstm_22 = Bidirectional(LSTM(LATENT_DIM_2, return_sequences = True))(lstm_12)\n",
        "# # lstm_32 = Bidirectional(LSTM(LATENT_DIM_3, return_sequences = True))(lstm_22)\n",
        "\n",
        "# sub = Concatenate(axis=1)([lstm_11, lstm_12])\n",
        "# print(sub.shape) \n",
        "# dense = TimeDistributed(Dense(1, activation='tanh'))(sub) \n",
        "# print(dense.shape)\n",
        "# dense = Reshape((60,))(dense)\n",
        "# print(dense.shape)\n",
        "# dense = Dense(30, activation='tanh')(dense)\n",
        "# print(dense.shape) \n",
        "# dense = Dense(1, activation='tanh')(dense)\n",
        "# print(dense.shape) \n",
        "\n",
        "# model = Model([input_1, input_2],dense)\n",
        "# model.compile(optimizer=RMSprop(lr=0.01), loss='binary_crossentropy', metrics=['accuracy'])\n",
        "# # model.fit(input_array[:12000], target_array[:12000], batch_size = 256, epochs=20, validation_split=0.2)\n",
        "# # RMSprop(lr=0.0005)\n",
        "# model.fit([X_train_1,X_train_2], 1-y_train, batch_size = 256, epochs=20, validation_split=0.2)\n"
      ],
      "execution_count": 0,
      "outputs": []
    },
    {
      "cell_type": "code",
      "metadata": {
        "id": "M06BBQmeO9fo",
        "colab_type": "code",
        "colab": {}
      },
      "source": [
        ""
      ],
      "execution_count": 0,
      "outputs": []
    },
    {
      "cell_type": "code",
      "metadata": {
        "id": "GKuqezNjIr_r",
        "colab_type": "code",
        "colab": {}
      },
      "source": [
        ""
      ],
      "execution_count": 0,
      "outputs": []
    }
  ]
}