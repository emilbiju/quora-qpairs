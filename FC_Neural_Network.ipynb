{
  "nbformat": 4,
  "nbformat_minor": 0,
  "metadata": {
    "colab": {
      "name": "Quora Question Pairs - FC Neural Network",
      "provenance": [],
      "collapsed_sections": []
    },
    "kernelspec": {
      "display_name": "Python 3",
      "language": "python",
      "name": "python3"
    },
    "language_info": {
      "codemirror_mode": {
        "name": "ipython",
        "version": 3
      },
      "file_extension": ".py",
      "mimetype": "text/x-python",
      "name": "python",
      "nbconvert_exporter": "python",
      "pygments_lexer": "ipython3",
      "version": "3.6.9"
    }
  },
  "cells": [
    {
      "cell_type": "markdown",
      "metadata": {
        "id": "aQU_8VR13Ugu",
        "colab_type": "text"
      },
      "source": [
        "## Introduction\n",
        "\n",
        "In this notebook, we develop a Fully connected neural network or MLP to classify the pair of questions. We first implement a neural network from scratch including the backpropagation algorithm. We also implement two improved versions of the Gradient descent algorithm namely:\n",
        "- Momentum based gradient descent\n",
        "- Nesterov accelerated gradient descent\n",
        "Following this, we also present a Keras implementation of a FCNN which uses the Adam optimization algorithm with Dropout for regularization.\n",
        "\n",
        "### Optimization algorithms implemented\n",
        "- Standard gradient descent:  $\\>$  $w(t+1) = w(t) - \\eta g_w(t)$\n",
        "- Momentum based gradient descent: $\\>$ $w(t+1) = w(t) - \\eta g_w(t) + \\alpha \\Delta w(t-1)$\n",
        "- Nesterov accelerated gradient descent: $\\>$ $w(t+1) = w(t) - \\eta g_w(t+1) + \\alpha \\Delta w(t-1)$\n",
        "\n",
        "### Model input\n",
        "GLoVe vectors corresponding to the words of each question are first obtained and then summed together to get a vector representation for the question. The vectors correspoding to the 2 questions are concatenated and given as input to the model.\n",
        "\n",
        "### Model architecture\n",
        "The FCNN consists of an input layer of size 2*(GLoVe embedding dimension) due to vector concatenation. This is followed by 3 hidden layers. Experiments have been conducted by varying the sizes of these hidden layers as well. Dropout is added between the layers in the Keras implementation for regularization. \n",
        "\n",
        "### Model output\n",
        "- 1 - represents a duplicate pair\n",
        "- 0 - represents a non-duplicate pair"
      ]
    },
    {
      "cell_type": "code",
      "metadata": {
        "id": "ym0IovrLAgkB",
        "colab_type": "code",
        "colab": {
          "base_uri": "https://localhost:8080/",
          "height": 92
        },
        "outputId": "06049287-e114-4026-8cf5-ef5adbd6877c"
      },
      "source": [
        "# Import necessary libraries\n",
        "import numpy as np\n",
        "import pandas as pd\n",
        "import matplotlib.pyplot as plt\n",
        "% matplotlib inline\n",
        "from nltk.tokenize import word_tokenize\n",
        "import pandas as pd\n",
        "import string\n",
        "import nltk\n",
        "nltk.download('punkt')\n",
        "from nltk.stem import WordNetLemmatizer\n",
        "from sklearn.model_selection import train_test_split \n",
        "from pylab import *"
      ],
      "execution_count": 18,
      "outputs": [
        {
          "output_type": "stream",
          "text": [
            "[nltk_data] Downloading package punkt to /root/nltk_data...\n",
            "[nltk_data]   Package punkt is already up-to-date!\n"
          ],
          "name": "stdout"
        }
      ]
    },
    {
      "cell_type": "code",
      "metadata": {
        "id": "7x7MSh6lAR4O",
        "colab_type": "code",
        "colab": {
          "base_uri": "https://localhost:8080/",
          "height": 207
        },
        "outputId": "59bb640b-6768-4aae-bca4-ec75bcad6796"
      },
      "source": [
        "from google.colab import drive\n",
        "drive.mount('/content/drive')"
      ],
      "execution_count": 2,
      "outputs": [
        {
          "output_type": "stream",
          "text": [
            "Go to this URL in a browser: https://accounts.google.com/o/oauth2/auth?client_id=947318989803-6bn6qk8qdgf4n4g3pfee6491hc0brc4i.apps.googleusercontent.com&redirect_uri=urn%3aietf%3awg%3aoauth%3a2.0%3aoob&response_type=code&scope=email%20https%3a%2f%2fwww.googleapis.com%2fauth%2fdocs.test%20https%3a%2f%2fwww.googleapis.com%2fauth%2fdrive%20https%3a%2f%2fwww.googleapis.com%2fauth%2fdrive.photos.readonly%20https%3a%2f%2fwww.googleapis.com%2fauth%2fpeopleapi.readonly\n",
            "\n",
            "Enter your authorization code:\n",
            "··········\n",
            "Mounted at /content/drive\n"
          ],
          "name": "stdout"
        }
      ]
    },
    {
      "cell_type": "code",
      "metadata": {
        "id": "pBH1BwN-8NQ3",
        "colab_type": "code",
        "colab": {
          "base_uri": "https://localhost:8080/",
          "height": 127
        },
        "outputId": "e0bf4a8a-0fba-4252-cf83-effd6ccd877f"
      },
      "source": [
        "# Data pre-processing and conversion of words into GLoVe vectors\n",
        "\n",
        "# Parameters\n",
        "GLOVE_EMBED  = 300\n",
        "MAX_QUESTION_LENGTH = 30\n",
        "\n",
        "prefix = '/content/drive/My Drive/Quora Questions Project/' \n",
        "lemmatizer = WordNetLemmatizer() \n",
        "data = pd.read_csv(prefix+\"questions.csv\")\n",
        "data = data.dropna() # Remove null values\n",
        "data = data.drop(['id','qid1','qid2'],axis=1)\n",
        "g = data.groupby('is_duplicate', group_keys=False)\n",
        "# data = g.apply(lambda x: x.sample(g.size().min()).reset_index()).sample(frac=0.5)\n",
        "data = column_stack((data.question1,data.question2,data.is_duplicate))\n",
        "train_data, test_data = train_test_split(data, test_size= 0.15)\n",
        "embeddings_index = {}\n",
        "f = open(prefix+'glove.6B.300d.txt')\n",
        "for line in f:\n",
        "    values = line.split(' ')\n",
        "    word = values[0] ## The first entry is the word\n",
        "    coefs = np.asarray(values[1:], dtype='float32') ## These are the vectors representing the embedding for the word\n",
        "    embeddings_index[word] = coefs\n",
        "f.close() \n",
        "def preProcess(doc):\n",
        "    processed = []\n",
        "    for i in range(2):\n",
        "        doc_processed = (doc[i]).lower()\n",
        "        translator = str.maketrans('','',string.punctuation)\n",
        "        doc_processed = doc_processed.translate(translator)\n",
        "        doc_processed = word_tokenize(doc_processed)\n",
        "        if len(doc_processed)>MAX_QUESTION_LENGTH: # Restrict question size to 80 words\n",
        "            return []\n",
        "        #doc_processed = [lemmatizer.lemmatize(w) for w in doc_processed]\n",
        "        vect = []\n",
        "        for word in doc_processed:\n",
        "            if word in embeddings_index:\n",
        "                vect.append(embeddings_index[word])\n",
        "            else:\n",
        "                vect.append(np.zeros(GLOVE_EMBED))\n",
        "        vect.extend([np.zeros(GLOVE_EMBED)]*(MAX_QUESTION_LENGTH-len(vect)))\n",
        "        processed.append(vect)\n",
        "        #processed.extend([np.zeros(GLOVE_EMBED)]*(MAX_QUESTION_LENGTH-len(vect)))\n",
        "    processed.append(doc[2])\n",
        "    return processed\n",
        "\n",
        "print(train_data[0,:])\n",
        "# print(preProcess(train_data[0,:]))  "
      ],
      "execution_count": 3,
      "outputs": [
        {
          "output_type": "stream",
          "text": [
            "['What is the corporate culture like at Liquidity Service? How is the culture different than other companies?'\n",
            " 'What is the corporate culture like at H&E Equipment Services? How is the culture different than other companies?'\n",
            " 0]\n"
          ],
          "name": "stdout"
        }
      ]
    },
    {
      "cell_type": "code",
      "metadata": {
        "id": "VQS4NG8Y8NZO",
        "colab_type": "code",
        "colab": {}
      },
      "source": [
        "# Creating the training set\n",
        "train_vecs = []\n",
        "for i in range(len(train_data)):\n",
        "    train_vecs.append(preProcess(train_data[i,:])) \n",
        "train_vecs = [x for x in train_vecs if x] # remove all empty lists\n",
        "\n",
        "# Preparing data for passing into FCNN\n",
        "X_train_1 = np.zeros((len(train_vecs), GLOVE_EMBED))\n",
        "X_train_2 = np.zeros((len(train_vecs), GLOVE_EMBED))\n",
        "y_train = np.zeros((len(train_vecs), 1))\n",
        "\n",
        "for i in range(len(train_vecs)):\n",
        "    X_train_1[i] = np.sum(np.array(train_vecs[i][0]), axis=0)\n",
        "    X_train_2[i] = np.sum(np.array(train_vecs[i][1]), axis=0)\n",
        "    y_train[i] = train_vecs[i][2]"
      ],
      "execution_count": 0,
      "outputs": []
    },
    {
      "cell_type": "code",
      "metadata": {
        "id": "8OSqTTUa8NXa",
        "colab_type": "code",
        "colab": {}
      },
      "source": [
        "# Creating the test set\n",
        "test_vecs = []\n",
        "for i in range(len(test_data)):\n",
        "    test_vecs.append(preProcess(test_data[i,:])) \n",
        "test_vecs = [x for x in test_vecs if x] # remove all empty lists\n",
        "\n",
        "# Preparing data for passing into keras model\n",
        "X_test_1 = np.zeros((len(test_vecs), GLOVE_EMBED))\n",
        "X_test_2 = np.zeros((len(test_vecs), GLOVE_EMBED))\n",
        "y_test = np.zeros((len(test_vecs), 1))\n",
        "\n",
        "for i in range(len(test_vecs)):\n",
        "    X_test_1[i] = np.sum(np.array(test_vecs[i][0]), axis=0)\n",
        "    X_test_2[i] = np.sum(np.array(test_vecs[i][1]), axis=0)\n",
        "    y_test[i] = test_vecs[i][2] "
      ],
      "execution_count": 0,
      "outputs": []
    },
    {
      "cell_type": "code",
      "metadata": {
        "id": "UzoDsIcoFsTL",
        "colab_type": "code",
        "colab": {}
      },
      "source": [
        "X_train = np.concatenate([X_train_1, X_train_2], axis=1)\n",
        "X_test = np.concatenate([X_test_1, X_test_2], axis=1)"
      ],
      "execution_count": 0,
      "outputs": []
    },
    {
      "cell_type": "markdown",
      "metadata": {
        "id": "8CT-1C32GMms",
        "colab_type": "text"
      },
      "source": [
        "#### Hidden layer details\n",
        "For this implementation, we set the hidden layer sizes to 40, 20 and 10 for the following reasons:\n",
        "- The implemented model does not use GPU-optimized parallel computation and is therefore, slower to train. So, we need to restrict the number of training samples.\n",
        "- This means the number of parameters in the model should also be small.\n",
        "\n",
        "        Number of paramters (excl. bias terms)  = 600 * 40 + 40 * 20 + 20 * 10 + 10 * 1 = 25010 parameters\n",
        "\n",
        "- The  number of training samples should at least be larger than this number to prevent shattering.\n",
        "- A model with smaller hidden layer sizes may have less representation power, but can be trained with a smaller number of training samples without overfitting.\n",
        "- Later, we use a faster Keras implementation with Dropout regularization where we use larger hidden layer sizes."
      ]
    },
    {
      "cell_type": "code",
      "metadata": {
        "id": "kFwkyLb-NJKh",
        "colab_type": "code",
        "colab": {}
      },
      "source": [
        "# Parameter declarations\n",
        "\n",
        "IN_SIZE = 2*GLOVE_EMBED # We concatenate both questions and pass it as input to the model, so length is twice\n",
        "OUT_SIZE = 1\n",
        "NUM_EPOCHS = 40\n",
        "batch_size = 1\n",
        "lr = 0.05 \n",
        "momentum = 0.3\n",
        "num_hidden = 3\n",
        "sizes = [40,20,10]\n",
        "activation = 'sigmoid'\n",
        "batch_size = 1 \n",
        "size_list = [IN_SIZE] + sizes + [OUT_SIZE]\n",
        "np.random.seed(1234)"
      ],
      "execution_count": 0,
      "outputs": []
    },
    {
      "cell_type": "code",
      "metadata": {
        "colab_type": "code",
        "id": "w0CJZUrBrylC",
        "colab": {}
      },
      "source": [
        "# Useful function definitions\n",
        "def sigmoid(m):\n",
        "    return (1/(1+np.exp(-m)))  # This is a vectorized function\n",
        "\n",
        "def tanh(m):\n",
        "    return (np.exp(m)-np.exp(-m))/(np.exp(m)+np.exp(-m))\n",
        "\n",
        "def softmax(m):\n",
        "    return (np.exp(m-np.max(m))/np.sum(np.exp(m-np.max(m))))\n",
        "\n",
        "def sigmoid_derivative(m):\n",
        "    return sigmoid(m)*(1-sigmoid(m))\n",
        "\n",
        "def tanh_derivative(m):\n",
        "    return 1-tanh(m)*tanh(m) "
      ],
      "execution_count": 0,
      "outputs": []
    },
    {
      "cell_type": "code",
      "metadata": {
        "colab_type": "code",
        "id": "ZuT53TlHrylt",
        "colab": {}
      },
      "source": [
        "def forward_prop(weights_list, bias_list, inputs, exp_outputs):\n",
        "    \"\"\" Forward propagation function \"\"\"\n",
        "    pre_act_list =[0]*(num_hidden+2)\n",
        "    post_act_list = [0]*(num_hidden+2)\n",
        "    post_act_list[0] = inputs\n",
        "    if activation=='sigmoid':\n",
        "        act = sigmoid\n",
        "    if activation=='tanh':\n",
        "        act=tanh\n",
        "    for k in range(1, num_hidden+1):\n",
        "        pre_act_list[k] = np.dot(weights_list[k],post_act_list[k-1])+bias_list[k]\n",
        "        post_act_list[k] = act(pre_act_list[k])\n",
        "\n",
        "    pre_act_list[num_hidden+1] = np.dot(weights_list[num_hidden+1],post_act_list[num_hidden])+bias_list[num_hidden+1]\n",
        "    outputs = pre_act_list[num_hidden+1]\n",
        "    loss = 0.5*(exp_outputs-outputs[0])**2\n",
        "    return pre_act_list, post_act_list, outputs, loss "
      ],
      "execution_count": 0,
      "outputs": []
    },
    {
      "cell_type": "code",
      "metadata": {
        "colab_type": "code",
        "id": "kWKk55Enrylw",
        "colab": {}
      },
      "source": [
        "def backward_prop(weights_list, pre_act_list, post_act_list, outputs, exp_output_val):\n",
        "    \"\"\" Backpropagation algorithm implementation \"\"\"\n",
        "    if(activation=='sigmoid'):\n",
        "        fn = sigmoid_derivative\n",
        "    elif activation=='tanh':\n",
        "        fn = tanh_derivative\n",
        "    else:\n",
        "        print(\"Activation function is invalid!\")\n",
        "\n",
        "    grad_ak_list = [0]*(num_hidden+2) #1st element of these lists are dummy values\n",
        "    grad_hk_list = [0]*(num_hidden+2)\n",
        "    grad_wk_list = [0]*(num_hidden+2)\n",
        "    grad_bk_list = [0]*(num_hidden+2)\n",
        "    grad_ak_list[num_hidden+1] = -(exp_output_val - outputs)\n",
        "    for k in range(num_hidden+1, 0, -1):\n",
        "        # Compute gradients w.r.t parameters\n",
        "        grad_wk_list[k] = np.dot(np.expand_dims(grad_ak_list[k],axis=1), np.transpose(np.expand_dims(post_act_list[k-1],axis=1)))\n",
        "        grad_bk_list[k] = grad_ak_list[k].copy()\n",
        "        # Compute gradients w.r.t layer below\n",
        "        grad_hk_list[k-1] = np.dot(np.transpose(weights_list[k]), grad_ak_list[k])\n",
        "        # Compute gradients w.r.t layer below (pre-activation)\n",
        "        grad_ak_list[k-1] = grad_hk_list[k-1]*fn(pre_act_list[k-1])        \n",
        "    return grad_wk_list, grad_bk_list "
      ],
      "execution_count": 0,
      "outputs": []
    },
    {
      "cell_type": "code",
      "metadata": {
        "colab_type": "code",
        "id": "OHUhZuuHZxHI",
        "colab": {}
      },
      "source": [
        "def predict(weights_list, bias_list, inputs, exp_outputs, verbatim=False):\n",
        "    \"\"\" Function for finding loss during evaluation \"\"\"\n",
        "    val_loss = 0\n",
        "    output_list = []\n",
        "    corr = 0\n",
        "    for i in range(len(inputs)):\n",
        "        pre_act_list, post_act_list, outputs, loss = forward_prop(weights_list, bias_list, inputs[i], exp_outputs[i])\n",
        "        val_loss+=loss\n",
        "        outputs = np.round(outputs)\n",
        "        output_list.append(outputs)\n",
        "        if(exp_outputs[i]==outputs):\n",
        "            corr+=1\n",
        "    val_loss = val_loss/len(inputs)\n",
        "    acc = corr/len(inputs)\n",
        "    return val_loss, acc, output_list  "
      ],
      "execution_count": 0,
      "outputs": []
    },
    {
      "cell_type": "code",
      "metadata": {
        "colab_type": "code",
        "id": "3gnsaGOpFSN5",
        "colab": {}
      },
      "source": [
        "def momentum_gradient_descent(batch_size, lr, momentum, train_inputs, train_label, validation_inputs, validation_label,actual_Y_train):\n",
        "    \"Function for performing momentum-based Gradient descent\"\n",
        "    val_loss = 100000000 #Dummy \n",
        "    train_loss = 100000000 #Dummy\n",
        "    train_loss_list=[]\n",
        "    val_loss_list = []\n",
        "    weights_list = []\n",
        "    bias_list = []\n",
        "    prev_grad_weights_list = []\n",
        "    prev_grad_bias_list = []\n",
        "    # Initialize weights and biases\n",
        "    for i in range(0, num_hidden+2):\n",
        "        weights_list.append(np.random.randn(size_list[i], size_list[i-1])) #weights & biases at index 0 are just dummy values\n",
        "        bias_list.append(np.random.randn(size_list[i])) \n",
        "        prev_grad_weights_list.append(np.zeros((size_list[i], size_list[i-1])))\n",
        "        prev_grad_bias_list.append(np.zeros(size_list[i]))\n",
        "    \n",
        "    for epoch in range(NUM_EPOCHS):\n",
        "        num_points_seen = 0\n",
        "        cum_loss = 0\n",
        "        for sample in range(TRAIN_SIZE):\n",
        "            # Forward prop\n",
        "            pre_act_list, post_act_list, outputs, loss = forward_prop(weights_list, bias_list, train_inputs[sample], train_label[sample])\n",
        "            # Backward prop\n",
        "            grad_wk_list, grad_bk_list = backward_prop(weights_list, pre_act_list, post_act_list, outputs, train_label[sample]) \n",
        "            cum_loss += loss\n",
        "            if(num_points_seen==0):\n",
        "                grad_wk_to_update = grad_wk_list.copy()\n",
        "                grad_bk_to_update = grad_bk_list.copy()\n",
        "            else:\n",
        "                grad_wk_to_update = [sum(x) for x in zip(grad_wk_to_update, grad_wk_list)]\n",
        "                grad_bk_to_update = [sum(x) for x in zip(grad_bk_to_update, grad_bk_list)]\n",
        "            num_points_seen+=1\n",
        "            \n",
        "            if (num_points_seen % batch_size == 0):\n",
        "                curr_weights_update_list = (num_hidden+2)*[0]\n",
        "                curr_bias_update_list = (num_hidden+2)*[0]\n",
        "                for i in range(len(weights_list)):\n",
        "                    curr_weights_update_list[i] = momentum*(prev_grad_weights_list[i])+lr*(grad_wk_to_update[i]/batch_size)\n",
        "                    curr_bias_update_list[i] = momentum*(prev_grad_bias_list[i])+lr*(grad_bk_to_update[i]/batch_size)\n",
        "                    weights_list[i] = weights_list[i] - curr_weights_update_list[i]\n",
        "                    bias_list[i] = bias_list[i] - curr_bias_update_list[i]\n",
        "\n",
        "                prev_grad_weights_list = curr_weights_update_list.copy()\n",
        "                prev_grad_bias_list = curr_bias_update_list.copy()\n",
        "\n",
        "                num_points_seen = 0\n",
        "                # steps += 1\n",
        "        val_loss_old = val_loss\n",
        "        train_loss_old = train_loss\n",
        "        # Evaluate performance after each epoch\n",
        "        train_loss,train_acc,_ = predict(weights_list, bias_list, train_inputs, actual_Y_train)\n",
        "        val_loss,val_acc,_ = predict(weights_list, bias_list, validation_inputs, validation_label)\n",
        "        train_loss_list.append(train_loss)\n",
        "        val_loss_list.append(val_loss)\n",
        "        print(\"Epoch {}, Train loss {}, Train accuracy {}, Validation loss {}, Validation acc {}\".format(epoch, train_loss, np.round(train_acc,4), val_loss, np.round(val_acc,4)))\n",
        "        # Stopping condition\n",
        "        # if train_loss_old-train_loss<0.0006:\n",
        "        #     break\n",
        "    \n",
        "    return weights_list, bias_list, train_loss_list, val_loss_list "
      ],
      "execution_count": 0,
      "outputs": []
    },
    {
      "cell_type": "code",
      "metadata": {
        "id": "_5Hkloij1KXX",
        "colab_type": "code",
        "colab": {}
      },
      "source": [
        "def NAG(batch_size, lr, momentum, train_inputs, train_label, validation_inputs, validation_label, actual_Y_train):\n",
        "    \n",
        "    \"Function for performing Nesterov's accelerated Gradient descent\"\n",
        "    TRAIN_SIZE = len(train_inputs)\n",
        "    VALID_SIZE = len(validation_inputs)\n",
        "    val_loss = 100000000 #Dummy \n",
        "    train_loss = 100000000 #Dummy\n",
        "    train_loss_list=[]\n",
        "    val_loss_list = []\n",
        "    weights_list = []\n",
        "    bias_list = []\n",
        "    prev_grad_weights_list = []\n",
        "    prev_grad_bias_list = []\n",
        "    weights_lookahead_list = (num_hidden+2)*[0]\n",
        "    for i in range(0, num_hidden+2):\n",
        "        weights_list.append(np.random.randn(size_list[i], size_list[i-1])) #weights & biases at index 0 are just dummy values\n",
        "        bias_list.append(np.random.randn(size_list[i])) \n",
        "        prev_grad_weights_list.append(np.zeros((size_list[i], size_list[i-1])))\n",
        "        prev_grad_bias_list.append(np.zeros(size_list[i]))\n",
        "    \n",
        "\n",
        "    for epoch in range(NUM_EPOCHS):\n",
        "        num_points_seen = 0\n",
        "        cum_loss = 0\n",
        "        for sample in range(TRAIN_SIZE):\n",
        "            pre_act_list, post_act_list, outputs, loss = forward_prop(weights_list, bias_list, train_inputs[sample], train_label[sample])\n",
        "            \n",
        "            for i in range(len(weights_list)):\n",
        "                weights_lookahead_list[i] = weights_list[i]-momentum*(prev_grad_weights_list[i]) \n",
        "            \n",
        "            grad_wk_list, grad_bk_list = backward_prop(weights_lookahead_list, pre_act_list, post_act_list, outputs, train_label[sample]) \n",
        "\n",
        "            if(num_points_seen==0):\n",
        "                grad_wk_to_update = grad_wk_list.copy()\n",
        "                grad_bk_to_update = grad_bk_list.copy()\n",
        "            else:\n",
        "                grad_wk_to_update = [sum(x) for x in zip(grad_wk_to_update, grad_wk_list)]\n",
        "                grad_bk_to_update = [sum(x) for x in zip(grad_bk_to_update, grad_bk_list)]\n",
        "            num_points_seen+=1\n",
        "            \n",
        "            if (num_points_seen % batch_size == 0):\n",
        "                curr_weights_update_list = (num_hidden+2)*[0]\n",
        "                curr_bias_update_list = (num_hidden+2)*[0]\n",
        "                for i in range(len(weights_list)):\n",
        "                    curr_weights_update_list[i] = momentum*(prev_grad_weights_list[i])+lr*(grad_wk_to_update[i]/batch_size)\n",
        "                    curr_bias_update_list[i] = momentum*(prev_grad_bias_list[i])+lr*(grad_bk_to_update[i]/batch_size)\n",
        "                    weights_list[i] = weights_list[i] - curr_weights_update_list[i]\n",
        "                    bias_list[i] = bias_list[i] - curr_bias_update_list[i]\n",
        "                prev_grad_weights_list = curr_weights_update_list.copy()\n",
        "                prev_grad_bias_list = curr_bias_update_list.copy()\n",
        "\n",
        "                num_points_seen = 0\n",
        "                \n",
        "        val_loss_old = val_loss\n",
        "        train_loss_old = train_loss\n",
        "        # Evaluate performance after each epoch\n",
        "        train_loss,train_acc,_ = predict(weights_list, bias_list, train_inputs, actual_Y_train)\n",
        "        val_loss,val_acc,_ = predict(weights_list, bias_list, validation_inputs, validation_label)\n",
        "        train_loss_list.append(train_loss)\n",
        "        val_loss_list.append(val_loss)\n",
        "        print(\"Epoch {}, Train loss {}, Train accuracy {}, Validation loss {}, Validation acc {}\".format(epoch, train_loss, np.round(train_acc,4), val_loss, np.round(val_acc,4)))\n",
        "        # Stopping condition\n",
        "        # if train_loss_old-train_loss<0.0006:\n",
        "        #     break\n",
        "\n",
        "    return weights_list, bias_list, train_loss_list, val_loss_list  "
      ],
      "execution_count": 0,
      "outputs": []
    },
    {
      "cell_type": "code",
      "metadata": {
        "id": "3IUQi1UKBroO",
        "colab_type": "code",
        "colab": {
          "base_uri": "https://localhost:8080/",
          "height": 874
        },
        "outputId": "4ec149ee-2e73-4b40-8f71-06a37edb6f73"
      },
      "source": [
        "# Nesterov accelerated gradient descent (NAG) - without output rounding\n",
        "# Due to slower training, we use only a subset of the training and validation data for this case\n",
        "weights_list_updated, bias_list_updated, train_loss_list, val_loss_list = NAG(batch_size, lr, momentum,\n",
        "                                                                    X_train[:30000], y_train[:30000], X_test[:5000], y_test[:5000], y_train[:30000]) "
      ],
      "execution_count": 46,
      "outputs": [
        {
          "output_type": "stream",
          "text": [
            "Epoch 0, Train loss [0.11392364], Train accuracy 0.6293, Validation loss [0.11319773], Validation acc 0.6362\n",
            "Epoch 1, Train loss [0.11257427], Train accuracy 0.6334, Validation loss [0.11249623], Validation acc 0.6312\n",
            "Epoch 2, Train loss [0.11129951], Train accuracy 0.644, Validation loss [0.11143119], Validation acc 0.635\n",
            "Epoch 3, Train loss [0.10973895], Train accuracy 0.6469, Validation loss [0.11016384], Validation acc 0.6486\n",
            "Epoch 4, Train loss [0.10937375], Train accuracy 0.6513, Validation loss [0.11012785], Validation acc 0.6576\n",
            "Epoch 5, Train loss [0.10841432], Train accuracy 0.6567, Validation loss [0.10962858], Validation acc 0.653\n",
            "Epoch 6, Train loss [0.10686732], Train accuracy 0.6639, Validation loss [0.10815117], Validation acc 0.6566\n",
            "Epoch 7, Train loss [0.10727432], Train accuracy 0.6621, Validation loss [0.10888533], Validation acc 0.6596\n",
            "Epoch 8, Train loss [0.1056587], Train accuracy 0.672, Validation loss [0.10821731], Validation acc 0.6588\n",
            "Epoch 9, Train loss [0.10537066], Train accuracy 0.6716, Validation loss [0.10828457], Validation acc 0.659\n",
            "Epoch 10, Train loss [0.10531028], Train accuracy 0.6697, Validation loss [0.10798178], Validation acc 0.657\n",
            "Epoch 11, Train loss [0.10578265], Train accuracy 0.6686, Validation loss [0.10741825], Validation acc 0.6602\n",
            "Epoch 12, Train loss [0.10330987], Train accuracy 0.6803, Validation loss [0.10620184], Validation acc 0.6666\n",
            "Epoch 13, Train loss [0.1022243], Train accuracy 0.6831, Validation loss [0.10628236], Validation acc 0.6702\n",
            "Epoch 14, Train loss [0.10140946], Train accuracy 0.6878, Validation loss [0.10563113], Validation acc 0.6698\n",
            "Epoch 15, Train loss [0.10302395], Train accuracy 0.6809, Validation loss [0.10655471], Validation acc 0.671\n",
            "Epoch 16, Train loss [0.10100856], Train accuracy 0.6854, Validation loss [0.10605572], Validation acc 0.6682\n",
            "Epoch 17, Train loss [0.100908], Train accuracy 0.6905, Validation loss [0.10590336], Validation acc 0.673\n",
            "Epoch 18, Train loss [0.099265], Train accuracy 0.6973, Validation loss [0.10495541], Validation acc 0.6692\n",
            "Epoch 19, Train loss [0.10008277], Train accuracy 0.6937, Validation loss [0.10522257], Validation acc 0.675\n",
            "Epoch 20, Train loss [0.09930682], Train accuracy 0.6959, Validation loss [0.10661843], Validation acc 0.6754\n",
            "Epoch 21, Train loss [0.09977496], Train accuracy 0.6929, Validation loss [0.10578574], Validation acc 0.6786\n",
            "Epoch 22, Train loss [0.10119502], Train accuracy 0.6907, Validation loss [0.10675423], Validation acc 0.674\n",
            "Epoch 23, Train loss [0.09781402], Train accuracy 0.7035, Validation loss [0.10538752], Validation acc 0.6758\n",
            "Epoch 24, Train loss [0.09847442], Train accuracy 0.7003, Validation loss [0.10498018], Validation acc 0.6764\n",
            "Epoch 25, Train loss [0.09869547], Train accuracy 0.7001, Validation loss [0.10474141], Validation acc 0.6822\n",
            "Epoch 26, Train loss [0.09877379], Train accuracy 0.7012, Validation loss [0.10525968], Validation acc 0.6792\n",
            "Epoch 27, Train loss [0.09848433], Train accuracy 0.7024, Validation loss [0.10568639], Validation acc 0.675\n",
            "Epoch 28, Train loss [0.09670462], Train accuracy 0.7073, Validation loss [0.1047912], Validation acc 0.6792\n",
            "Epoch 29, Train loss [0.09794048], Train accuracy 0.704, Validation loss [0.10564137], Validation acc 0.6784\n",
            "Epoch 30, Train loss [0.09735927], Train accuracy 0.7058, Validation loss [0.10627527], Validation acc 0.676\n",
            "Epoch 31, Train loss [0.09665859], Train accuracy 0.7088, Validation loss [0.10612401], Validation acc 0.6774\n",
            "Epoch 32, Train loss [0.09644362], Train accuracy 0.7115, Validation loss [0.10681593], Validation acc 0.677\n",
            "Epoch 33, Train loss [0.09636136], Train accuracy 0.7071, Validation loss [0.1057657], Validation acc 0.6816\n",
            "Epoch 34, Train loss [0.09459145], Train accuracy 0.7175, Validation loss [0.10508191], Validation acc 0.6844\n",
            "Epoch 35, Train loss [0.09722905], Train accuracy 0.7065, Validation loss [0.10662664], Validation acc 0.6782\n",
            "Epoch 36, Train loss [0.09302157], Train accuracy 0.7189, Validation loss [0.10433584], Validation acc 0.6868\n",
            "Epoch 37, Train loss [0.09291452], Train accuracy 0.7234, Validation loss [0.10407694], Validation acc 0.6874\n",
            "Epoch 38, Train loss [0.09456293], Train accuracy 0.7156, Validation loss [0.10528268], Validation acc 0.6846\n",
            "Epoch 39, Train loss [0.09341239], Train accuracy 0.7218, Validation loss [0.10507319], Validation acc 0.6848\n"
          ],
          "name": "stdout"
        }
      ]
    },
    {
      "cell_type": "code",
      "metadata": {
        "id": "mH2YDmz_CanT",
        "colab_type": "code",
        "colab": {
          "base_uri": "https://localhost:8080/",
          "height": 74
        },
        "outputId": "dcbfd56d-382a-4e31-f11c-a0700e5e415a"
      },
      "source": [
        "test_loss,test_acc,_ = predict(weights_list_updated, bias_list_updated, X_test, y_test)\n",
        "print(\"Test Loss = {}, Test Accuracy = {}\".format(test_loss,test_acc))"
      ],
      "execution_count": 47,
      "outputs": [
        {
          "output_type": "stream",
          "text": [
            "Test Loss = [0.10372421], Test Accuracy = 0.6880666049953746\n"
          ],
          "name": "stdout"
        }
      ]
    },
    {
      "cell_type": "code",
      "metadata": {
        "id": "PGrxV-6U4wTl",
        "colab_type": "code",
        "colab": {}
      },
      "source": [
        "# Save weights\n",
        "np.save('/content/drive/My Drive/Quora Questions Project/wts_qqp', weights_list_updated)\n",
        "np.save('/content/drive/My Drive/Quora Questions Project/bias_qqp', bias_list_updated)  "
      ],
      "execution_count": 0,
      "outputs": []
    },
    {
      "cell_type": "code",
      "metadata": {
        "id": "2pS2wYb4LaOv",
        "colab_type": "code",
        "colab": {
          "base_uri": "https://localhost:8080/",
          "height": 370
        },
        "outputId": "f6e7cc70-d6ce-4e25-bc9c-ac154dd34259"
      },
      "source": [
        "# Average error vs epoch plot\n",
        "\n",
        "plt.figure(figsize = (5,5))\n",
        "plt.plot(np.array(train_loss_list[:]))\n",
        "plt.xlabel(\"Epoch Number\")\n",
        "plt.ylabel(\"Training Loss\")\n",
        "plt.grid(True)\n",
        "plt.title(\"Avg Error on Training data vs Epoch\") \n",
        "plt.show()"
      ],
      "execution_count": 49,
      "outputs": [
        {
          "output_type": "display_data",
          "data": {
            "image/png": "[encoded data removed]",
            "text/plain": [
              "<Figure size 360x360 with 1 Axes>"
            ]
          },
          "metadata": {
            "tags": [],
            "needs_background": "light"
          }
        }
      ]
    },
    {
      "cell_type": "code",
      "metadata": {
        "id": "MbT6F_jLLcPJ",
        "colab_type": "code",
        "colab": {
          "base_uri": "https://localhost:8080/",
          "height": 370
        },
        "outputId": "dd81e5aa-2abc-4f21-b417-ee82658a7bb0"
      },
      "source": [
        "# Loss vs epoch plot\n",
        "plt.figure(figsize = (5,5))\n",
        "plt.plot(np.array(train_loss_list),label='Training error')\n",
        "plt.plot(np.array(val_loss_list), label = 'Validation error')\n",
        "plt.xlabel(\"Epoch Number\")\n",
        "plt.ylabel(\"Training Loss\")\n",
        "plt.grid(True)\n",
        "plt.title(\"Training and validation error vs Epoch\") \n",
        "plt.legend()\n",
        "plt.show()"
      ],
      "execution_count": 50,
      "outputs": [
        {
          "output_type": "display_data",
          "data": {
            "image/png": "[encoded data removed]",
            "text/plain": [
              "<Figure size 360x360 with 1 Axes>"
            ]
          },
          "metadata": {
            "tags": [],
            "needs_background": "light"
          }
        }
      ]
    },
    {
      "cell_type": "markdown",
      "metadata": {
        "id": "Smj94nho8iwF",
        "colab_type": "text"
      },
      "source": [
        "## Keras implementation\n",
        "\n",
        "#### Model details\n",
        "- 3 hidden layers - each of size 300\n",
        "- Learning rate = 0.001\n",
        "- Sigmoid activation for all layers\n",
        "- Adam algorithm for training"
      ]
    },
    {
      "cell_type": "code",
      "metadata": {
        "id": "9BHvkk6uNJNM",
        "colab_type": "code",
        "colab": {
          "base_uri": "https://localhost:8080/",
          "height": 74
        },
        "outputId": "ac880a44-8033-413d-9293-58ee512d88fb"
      },
      "source": [
        "from keras.models import Model\n",
        "from keras.layers import Dense, Embedding, Input, Lambda, Reshape, add, dot, Activation, LSTM, GRU, Bidirectional,\\\n",
        "RepeatVector, Concatenate, Dot, Subtract, TimeDistributed, Multiply, Dropout\n",
        "from keras.preprocessing.sequence import pad_sequences\n",
        "from keras.preprocessing.text import Tokenizer\n",
        "from keras.optimizers import Adam, RMSprop\n",
        "import keras.backend as K"
      ],
      "execution_count": 11,
      "outputs": [
        {
          "output_type": "stream",
          "text": [
            "Using TensorFlow backend.\n"
          ],
          "name": "stderr"
        }
      ]
    },
    {
      "cell_type": "markdown",
      "metadata": {
        "id": "MIP-sH0r8nRP",
        "colab_type": "text"
      },
      "source": [
        "#### Model without dropout"
      ]
    },
    {
      "cell_type": "code",
      "metadata": {
        "id": "zgWRVXGe8mR7",
        "colab_type": "code",
        "colab": {
          "base_uri": "https://localhost:8080/",
          "height": 1000
        },
        "outputId": "7a04e160-8f1c-43f9-ab2c-992e10862a65"
      },
      "source": [
        "qs_input = Input(shape = (2*GLOVE_EMBED,))\n",
        "dense_1 = Dense(150, activation='sigmoid')(qs_input)\n",
        "dense_2 = Dense(75, activation='sigmoid')(dense_1)\n",
        "dense_3 = Dense(30, activation='sigmoid')(dense_2)\n",
        "output = Dense(1, activation='sigmoid')(dense_3)\n",
        "\n",
        "model_no_dropout = Model(qs_input, output)\n",
        "model_no_dropout.compile(optimizer=Adam(lr=0.001), loss='binary_crossentropy', metrics=['accuracy']) \n",
        "r_no_dropout = model_no_dropout.fit(X_train, y_train, batch_size = 1000, epochs=40, validation_split=0.2) # dropouts 0.3"
      ],
      "execution_count": 13,
      "outputs": [
        {
          "output_type": "stream",
          "text": [
            "Train on 269656 samples, validate on 67414 samples\n",
            "Epoch 1/40\n",
            "269656/269656 [==============================] - 5s 18us/step - loss: 0.6272 - accuracy: 0.6517 - val_loss: 0.5755 - val_accuracy: 0.7002\n",
            "Epoch 2/40\n",
            "269656/269656 [==============================] - 5s 17us/step - loss: 0.5468 - accuracy: 0.7190 - val_loss: 0.5226 - val_accuracy: 0.7325\n",
            "Epoch 3/40\n",
            "269656/269656 [==============================] - 5s 17us/step - loss: 0.4951 - accuracy: 0.7511 - val_loss: 0.4920 - val_accuracy: 0.7530\n",
            "Epoch 4/40\n",
            "269656/269656 [==============================] - 5s 17us/step - loss: 0.4610 - accuracy: 0.7721 - val_loss: 0.4766 - val_accuracy: 0.7608\n",
            "Epoch 5/40\n",
            "269656/269656 [==============================] - 5s 17us/step - loss: 0.4394 - accuracy: 0.7860 - val_loss: 0.4601 - val_accuracy: 0.7730\n",
            "Epoch 6/40\n",
            "269656/269656 [==============================] - 5s 17us/step - loss: 0.4219 - accuracy: 0.7975 - val_loss: 0.4547 - val_accuracy: 0.7753\n",
            "Epoch 7/40\n",
            "269656/269656 [==============================] - 5s 17us/step - loss: 0.4089 - accuracy: 0.8049 - val_loss: 0.4518 - val_accuracy: 0.7783\n",
            "Epoch 8/40\n",
            "269656/269656 [==============================] - 5s 17us/step - loss: 0.3969 - accuracy: 0.8123 - val_loss: 0.4529 - val_accuracy: 0.7778\n",
            "Epoch 9/40\n",
            "269656/269656 [==============================] - 5s 17us/step - loss: 0.3866 - accuracy: 0.8183 - val_loss: 0.4618 - val_accuracy: 0.7735\n",
            "Epoch 10/40\n",
            "269656/269656 [==============================] - 5s 17us/step - loss: 0.3767 - accuracy: 0.8243 - val_loss: 0.4586 - val_accuracy: 0.7793\n",
            "Epoch 11/40\n",
            "269656/269656 [==============================] - 5s 17us/step - loss: 0.3702 - accuracy: 0.8284 - val_loss: 0.4552 - val_accuracy: 0.7824\n",
            "Epoch 12/40\n",
            "269656/269656 [==============================] - 5s 17us/step - loss: 0.3594 - accuracy: 0.8344 - val_loss: 0.4523 - val_accuracy: 0.7826\n",
            "Epoch 13/40\n",
            "269656/269656 [==============================] - 5s 17us/step - loss: 0.3537 - accuracy: 0.8382 - val_loss: 0.4783 - val_accuracy: 0.7771\n",
            "Epoch 14/40\n",
            "269656/269656 [==============================] - 5s 17us/step - loss: 0.3476 - accuracy: 0.8417 - val_loss: 0.4602 - val_accuracy: 0.7804\n",
            "Epoch 15/40\n",
            "269656/269656 [==============================] - 5s 17us/step - loss: 0.3419 - accuracy: 0.8447 - val_loss: 0.4614 - val_accuracy: 0.7854\n",
            "Epoch 16/40\n",
            "269656/269656 [==============================] - 5s 17us/step - loss: 0.3343 - accuracy: 0.8486 - val_loss: 0.4622 - val_accuracy: 0.7846\n",
            "Epoch 17/40\n",
            "269656/269656 [==============================] - 5s 17us/step - loss: 0.3296 - accuracy: 0.8513 - val_loss: 0.4749 - val_accuracy: 0.7820\n",
            "Epoch 18/40\n",
            "269656/269656 [==============================] - 5s 17us/step - loss: 0.3220 - accuracy: 0.8563 - val_loss: 0.4841 - val_accuracy: 0.7764\n",
            "Epoch 19/40\n",
            "269656/269656 [==============================] - 5s 18us/step - loss: 0.3186 - accuracy: 0.8575 - val_loss: 0.4870 - val_accuracy: 0.7833\n",
            "Epoch 20/40\n",
            "269656/269656 [==============================] - 5s 18us/step - loss: 0.3149 - accuracy: 0.8599 - val_loss: 0.4844 - val_accuracy: 0.7827\n",
            "Epoch 21/40\n",
            "269656/269656 [==============================] - 5s 17us/step - loss: 0.3119 - accuracy: 0.8623 - val_loss: 0.4909 - val_accuracy: 0.7831\n",
            "Epoch 22/40\n",
            "269656/269656 [==============================] - 5s 17us/step - loss: 0.3063 - accuracy: 0.8647 - val_loss: 0.4838 - val_accuracy: 0.7809\n",
            "Epoch 23/40\n",
            "269656/269656 [==============================] - 5s 17us/step - loss: 0.2992 - accuracy: 0.8684 - val_loss: 0.4907 - val_accuracy: 0.7784\n",
            "Epoch 24/40\n",
            "269656/269656 [==============================] - 5s 17us/step - loss: 0.2995 - accuracy: 0.8682 - val_loss: 0.4973 - val_accuracy: 0.7781\n",
            "Epoch 25/40\n",
            "269656/269656 [==============================] - 5s 17us/step - loss: 0.2926 - accuracy: 0.8723 - val_loss: 0.4967 - val_accuracy: 0.7845\n",
            "Epoch 26/40\n",
            "269656/269656 [==============================] - 5s 17us/step - loss: 0.2889 - accuracy: 0.8734 - val_loss: 0.4987 - val_accuracy: 0.7861\n",
            "Epoch 27/40\n",
            "269656/269656 [==============================] - 5s 17us/step - loss: 0.2871 - accuracy: 0.8745 - val_loss: 0.4975 - val_accuracy: 0.7819\n",
            "Epoch 28/40\n",
            "269656/269656 [==============================] - 5s 17us/step - loss: 0.2811 - accuracy: 0.8783 - val_loss: 0.5131 - val_accuracy: 0.7860\n",
            "Epoch 29/40\n",
            "269656/269656 [==============================] - 5s 17us/step - loss: 0.2798 - accuracy: 0.8784 - val_loss: 0.5062 - val_accuracy: 0.7832\n",
            "Epoch 30/40\n",
            "269656/269656 [==============================] - 5s 17us/step - loss: 0.2764 - accuracy: 0.8806 - val_loss: 0.5087 - val_accuracy: 0.7845\n",
            "Epoch 31/40\n",
            "269656/269656 [==============================] - 5s 17us/step - loss: 0.2733 - accuracy: 0.8819 - val_loss: 0.5112 - val_accuracy: 0.7852\n",
            "Epoch 32/40\n",
            "269656/269656 [==============================] - 5s 17us/step - loss: 0.2717 - accuracy: 0.8829 - val_loss: 0.5210 - val_accuracy: 0.7850\n",
            "Epoch 33/40\n",
            "269656/269656 [==============================] - 5s 17us/step - loss: 0.2686 - accuracy: 0.8849 - val_loss: 0.5298 - val_accuracy: 0.7836\n",
            "Epoch 34/40\n",
            "269656/269656 [==============================] - 5s 17us/step - loss: 0.2651 - accuracy: 0.8867 - val_loss: 0.5267 - val_accuracy: 0.7850\n",
            "Epoch 35/40\n",
            "269656/269656 [==============================] - 5s 17us/step - loss: 0.2604 - accuracy: 0.8892 - val_loss: 0.5310 - val_accuracy: 0.7798\n",
            "Epoch 36/40\n",
            "269656/269656 [==============================] - 5s 17us/step - loss: 0.2592 - accuracy: 0.8891 - val_loss: 0.5292 - val_accuracy: 0.7835\n",
            "Epoch 37/40\n",
            "269656/269656 [==============================] - 5s 17us/step - loss: 0.2565 - accuracy: 0.8907 - val_loss: 0.5720 - val_accuracy: 0.7814\n",
            "Epoch 38/40\n",
            "269656/269656 [==============================] - 5s 17us/step - loss: 0.2560 - accuracy: 0.8913 - val_loss: 0.5451 - val_accuracy: 0.7765\n",
            "Epoch 39/40\n",
            "269656/269656 [==============================] - 5s 17us/step - loss: 0.2514 - accuracy: 0.8933 - val_loss: 0.5453 - val_accuracy: 0.7849\n",
            "Epoch 40/40\n",
            "269656/269656 [==============================] - 5s 17us/step - loss: 0.2524 - accuracy: 0.8931 - val_loss: 0.5511 - val_accuracy: 0.7843\n"
          ],
          "name": "stdout"
        }
      ]
    },
    {
      "cell_type": "code",
      "metadata": {
        "id": "m69tBXUO9CZQ",
        "colab_type": "code",
        "colab": {
          "base_uri": "https://localhost:8080/",
          "height": 533
        },
        "outputId": "6c966100-dc4d-46bd-bda4-14076112a7ae"
      },
      "source": [
        "# Loss\n",
        "plt.plot(r_no_dropout.history['loss'], label='loss')\n",
        "plt.plot(r_no_dropout.history['val_loss'], label='val_loss')\n",
        "plt.legend()\n",
        "plt.show()\n",
        "\n",
        "# accuracies\n",
        "plt.plot(r_no_dropout.history['accuracy'], label='acc')\n",
        "plt.plot(r_no_dropout.history['val_accuracy'], label='val_acc')\n",
        "plt.legend()\n",
        "plt.show() "
      ],
      "execution_count": 14,
      "outputs": [
        {
          "output_type": "display_data",
          "data": {
            "image/png": "[encoded data removed]",
            "text/plain": [
              "<Figure size 432x288 with 1 Axes>"
            ]
          },
          "metadata": {
            "tags": [],
            "needs_background": "light"
          }
        },
        {
          "output_type": "display_data",
          "data": {
            "image/png": "[encoded data removed]",
            "text/plain": [
              "<Figure size 432x288 with 1 Axes>"
            ]
          },
          "metadata": {
            "tags": [],
            "needs_background": "light"
          }
        }
      ]
    },
    {
      "cell_type": "markdown",
      "metadata": {
        "id": "eCq05GAe-sDx",
        "colab_type": "text"
      },
      "source": [
        "We notice that the validation loss increasing with training epochs in this model, while the training accuracy continuously decreases. This is a clear case of overfitting. \n",
        "\n"
      ]
    },
    {
      "cell_type": "code",
      "metadata": {
        "id": "sxm6Elrw9JjY",
        "colab_type": "code",
        "colab": {
          "base_uri": "https://localhost:8080/",
          "height": 174
        },
        "outputId": "db2bd080-ddfa-414c-bd1d-53445ceeb774"
      },
      "source": [
        "y_preds = model.predict(X_test)\n",
        "crr=0\n",
        "thresh = 0.5\n",
        "for i in range(len(y_preds)):\n",
        "    if y_preds[i]>=thresh:\n",
        "        if y_test[i]==1:\n",
        "            crr+=1\n",
        "    else:\n",
        "        if y_test[i]==0:\n",
        "            crr+=1\n",
        "print(\"Accuracy = {}%\".format(100*np.round(crr/len(y_preds),4)))"
      ],
      "execution_count": 16,
      "outputs": [
        {
          "output_type": "stream",
          "text": [
            "Accuracy = 70.08%\n"
          ],
          "name": "stdout"
        }
      ]
    },
    {
      "cell_type": "markdown",
      "metadata": {
        "id": "zZeFdX1a81XN",
        "colab_type": "text"
      },
      "source": [
        "#### Regularization using dropout\n",
        "\n",
        "We resolve the issue of overfitting with dropout which is a method of ignoring a random selection of nodes in a hidden layer in each mini-batch during the training process. So, effectively the model learns to predict the output even in the absence of a part of the input data."
      ]
    },
    {
      "cell_type": "code",
      "metadata": {
        "id": "6y0XskNHh0Hf",
        "colab_type": "code",
        "colab": {}
      },
      "source": [
        "qs_input = Input(shape = (2*GLOVE_EMBED,))\n",
        "dense_1 = Dense(150, activation='sigmoid')(qs_input)\n",
        "dense_1 = Dropout(0.1)(dense_1)\n",
        "dense_2 = Dense(75, activation='sigmoid')(dense_1)\n",
        "dense_2 = Dropout(0.1)(dense_2)\n",
        "dense_3 = Dense(30, activation='sigmoid')(dense_2)\n",
        "dense_3 = Dropout(0.1)(dense_3)\n",
        "output = Dense(1, activation='sigmoid')(dense_3)\n",
        "\n",
        "model = Model(qs_input, output) "
      ],
      "execution_count": 0,
      "outputs": []
    },
    {
      "cell_type": "code",
      "metadata": {
        "id": "o2GMdJ2ih0pC",
        "colab_type": "code",
        "colab": {}
      },
      "source": [
        "model.compile(optimizer=Adam(lr=0.001), loss='binary_crossentropy', metrics=['accuracy']) "
      ],
      "execution_count": 0,
      "outputs": []
    },
    {
      "cell_type": "code",
      "metadata": {
        "id": "VjImW8vDqGws",
        "colab_type": "code",
        "colab": {
          "base_uri": "https://localhost:8080/",
          "height": 1000
        },
        "outputId": "48c48d4a-bbb5-44fc-c0a8-36c7f998b253"
      },
      "source": [
        "r = model.fit(X_train, y_train, batch_size = 1000, epochs=70, validation_split=0.2) #dropouts 0.3"
      ],
      "execution_count": 165,
      "outputs": [
        {
          "output_type": "stream",
          "text": [
            "Train on 269651 samples, validate on 67413 samples\n",
            "Epoch 1/70\n",
            "269651/269651 [==============================] - 6s 22us/step - loss: 0.6161 - accuracy: 0.6634 - val_loss: 0.5651 - val_accuracy: 0.7108\n",
            "Epoch 2/70\n",
            "269651/269651 [==============================] - 6s 22us/step - loss: 0.5453 - accuracy: 0.7197 - val_loss: 0.5199 - val_accuracy: 0.7353\n",
            "Epoch 3/70\n",
            "269651/269651 [==============================] - 6s 22us/step - loss: 0.5081 - accuracy: 0.7429 - val_loss: 0.4959 - val_accuracy: 0.7480\n",
            "Epoch 4/70\n",
            "269651/269651 [==============================] - 6s 22us/step - loss: 0.4839 - accuracy: 0.7578 - val_loss: 0.4762 - val_accuracy: 0.7603\n",
            "Epoch 5/70\n",
            "269651/269651 [==============================] - 6s 22us/step - loss: 0.4685 - accuracy: 0.7668 - val_loss: 0.4719 - val_accuracy: 0.7611\n",
            "Epoch 6/70\n",
            "269651/269651 [==============================] - 6s 22us/step - loss: 0.4544 - accuracy: 0.7759 - val_loss: 0.4650 - val_accuracy: 0.7674\n",
            "Epoch 7/70\n",
            "269651/269651 [==============================] - 6s 22us/step - loss: 0.4457 - accuracy: 0.7802 - val_loss: 0.4586 - val_accuracy: 0.7700\n",
            "Epoch 8/70\n",
            "269651/269651 [==============================] - 6s 22us/step - loss: 0.4387 - accuracy: 0.7847 - val_loss: 0.4500 - val_accuracy: 0.7765\n",
            "Epoch 9/70\n",
            "269651/269651 [==============================] - 6s 22us/step - loss: 0.4306 - accuracy: 0.7903 - val_loss: 0.4527 - val_accuracy: 0.7748\n",
            "Epoch 10/70\n",
            "269651/269651 [==============================] - 6s 22us/step - loss: 0.4242 - accuracy: 0.7929 - val_loss: 0.4455 - val_accuracy: 0.7794\n",
            "Epoch 11/70\n",
            "269651/269651 [==============================] - 6s 22us/step - loss: 0.4192 - accuracy: 0.7965 - val_loss: 0.4426 - val_accuracy: 0.7813\n",
            "Epoch 12/70\n",
            "269651/269651 [==============================] - 6s 22us/step - loss: 0.4135 - accuracy: 0.8005 - val_loss: 0.4401 - val_accuracy: 0.7819\n",
            "Epoch 13/70\n",
            "269651/269651 [==============================] - 6s 22us/step - loss: 0.4080 - accuracy: 0.8023 - val_loss: 0.4396 - val_accuracy: 0.7833\n",
            "Epoch 14/70\n",
            "269651/269651 [==============================] - 6s 22us/step - loss: 0.4039 - accuracy: 0.8059 - val_loss: 0.4406 - val_accuracy: 0.7818\n",
            "Epoch 15/70\n",
            "269651/269651 [==============================] - 6s 22us/step - loss: 0.4002 - accuracy: 0.8080 - val_loss: 0.4364 - val_accuracy: 0.7848\n",
            "Epoch 16/70\n",
            "269651/269651 [==============================] - 6s 22us/step - loss: 0.3977 - accuracy: 0.8080 - val_loss: 0.4400 - val_accuracy: 0.7860\n",
            "Epoch 17/70\n",
            "269651/269651 [==============================] - 6s 22us/step - loss: 0.3916 - accuracy: 0.8125 - val_loss: 0.4343 - val_accuracy: 0.7864\n",
            "Epoch 18/70\n",
            "269651/269651 [==============================] - 6s 22us/step - loss: 0.3893 - accuracy: 0.8138 - val_loss: 0.4356 - val_accuracy: 0.7877\n",
            "Epoch 19/70\n",
            "269651/269651 [==============================] - 6s 22us/step - loss: 0.3860 - accuracy: 0.8152 - val_loss: 0.4344 - val_accuracy: 0.7886\n",
            "Epoch 20/70\n",
            "269651/269651 [==============================] - 6s 22us/step - loss: 0.3836 - accuracy: 0.8176 - val_loss: 0.4318 - val_accuracy: 0.7870\n",
            "Epoch 21/70\n",
            "269651/269651 [==============================] - 6s 22us/step - loss: 0.3813 - accuracy: 0.8184 - val_loss: 0.4378 - val_accuracy: 0.7895\n",
            "Epoch 22/70\n",
            "269651/269651 [==============================] - 6s 22us/step - loss: 0.3766 - accuracy: 0.8208 - val_loss: 0.4314 - val_accuracy: 0.7892\n",
            "Epoch 23/70\n",
            "269651/269651 [==============================] - 6s 22us/step - loss: 0.3742 - accuracy: 0.8223 - val_loss: 0.4365 - val_accuracy: 0.7850\n",
            "Epoch 24/70\n",
            "269651/269651 [==============================] - 6s 22us/step - loss: 0.3724 - accuracy: 0.8238 - val_loss: 0.4325 - val_accuracy: 0.7910\n",
            "Epoch 25/70\n",
            "269651/269651 [==============================] - 6s 22us/step - loss: 0.3686 - accuracy: 0.8254 - val_loss: 0.4321 - val_accuracy: 0.7906\n",
            "Epoch 26/70\n",
            "269651/269651 [==============================] - 6s 22us/step - loss: 0.3677 - accuracy: 0.8261 - val_loss: 0.4338 - val_accuracy: 0.7907\n",
            "Epoch 27/70\n",
            "269651/269651 [==============================] - 6s 22us/step - loss: 0.3647 - accuracy: 0.8280 - val_loss: 0.4319 - val_accuracy: 0.7906\n",
            "Epoch 28/70\n",
            "269651/269651 [==============================] - 6s 22us/step - loss: 0.3633 - accuracy: 0.8290 - val_loss: 0.4372 - val_accuracy: 0.7911\n",
            "Epoch 29/70\n",
            "269651/269651 [==============================] - 6s 22us/step - loss: 0.3603 - accuracy: 0.8307 - val_loss: 0.4332 - val_accuracy: 0.7921\n",
            "Epoch 30/70\n",
            "269651/269651 [==============================] - 6s 21us/step - loss: 0.3588 - accuracy: 0.8309 - val_loss: 0.4331 - val_accuracy: 0.7934\n",
            "Epoch 31/70\n",
            "269651/269651 [==============================] - 5s 20us/step - loss: 0.3578 - accuracy: 0.8313 - val_loss: 0.4358 - val_accuracy: 0.7923\n",
            "Epoch 32/70\n",
            "269651/269651 [==============================] - 6s 21us/step - loss: 0.3538 - accuracy: 0.8321 - val_loss: 0.4459 - val_accuracy: 0.7931\n",
            "Epoch 33/70\n",
            "269651/269651 [==============================] - 6s 20us/step - loss: 0.3525 - accuracy: 0.8342 - val_loss: 0.4332 - val_accuracy: 0.7922\n",
            "Epoch 34/70\n",
            "269651/269651 [==============================] - 5s 20us/step - loss: 0.3514 - accuracy: 0.8353 - val_loss: 0.4296 - val_accuracy: 0.7945\n",
            "Epoch 35/70\n",
            "269651/269651 [==============================] - 5s 20us/step - loss: 0.3498 - accuracy: 0.8361 - val_loss: 0.4365 - val_accuracy: 0.7941\n",
            "Epoch 36/70\n",
            "269651/269651 [==============================] - 5s 20us/step - loss: 0.3480 - accuracy: 0.8376 - val_loss: 0.4386 - val_accuracy: 0.7949\n",
            "Epoch 37/70\n",
            "269651/269651 [==============================] - 5s 20us/step - loss: 0.3460 - accuracy: 0.8379 - val_loss: 0.4348 - val_accuracy: 0.7918\n",
            "Epoch 38/70\n",
            "269651/269651 [==============================] - 5s 20us/step - loss: 0.3450 - accuracy: 0.8390 - val_loss: 0.4367 - val_accuracy: 0.7940\n",
            "Epoch 39/70\n",
            "269651/269651 [==============================] - 5s 19us/step - loss: 0.3421 - accuracy: 0.8400 - val_loss: 0.4331 - val_accuracy: 0.7959\n",
            "Epoch 40/70\n",
            "269651/269651 [==============================] - 5s 19us/step - loss: 0.3409 - accuracy: 0.8408 - val_loss: 0.4375 - val_accuracy: 0.7950\n",
            "Epoch 41/70\n",
            "269651/269651 [==============================] - 5s 19us/step - loss: 0.3395 - accuracy: 0.8413 - val_loss: 0.4326 - val_accuracy: 0.7953\n",
            "Epoch 42/70\n",
            "269651/269651 [==============================] - 5s 20us/step - loss: 0.3381 - accuracy: 0.8425 - val_loss: 0.4375 - val_accuracy: 0.7966\n",
            "Epoch 43/70\n",
            "269651/269651 [==============================] - 5s 20us/step - loss: 0.3365 - accuracy: 0.8423 - val_loss: 0.4357 - val_accuracy: 0.7960\n",
            "Epoch 44/70\n",
            "269651/269651 [==============================] - 5s 20us/step - loss: 0.3353 - accuracy: 0.8438 - val_loss: 0.4471 - val_accuracy: 0.7925\n",
            "Epoch 45/70\n",
            "269651/269651 [==============================] - 5s 20us/step - loss: 0.3345 - accuracy: 0.8437 - val_loss: 0.4394 - val_accuracy: 0.7976\n",
            "Epoch 46/70\n",
            "269651/269651 [==============================] - 5s 20us/step - loss: 0.3329 - accuracy: 0.8449 - val_loss: 0.4351 - val_accuracy: 0.7916\n",
            "Epoch 47/70\n",
            "269651/269651 [==============================] - 5s 20us/step - loss: 0.3310 - accuracy: 0.8466 - val_loss: 0.4335 - val_accuracy: 0.7976\n",
            "Epoch 48/70\n",
            "269651/269651 [==============================] - 5s 20us/step - loss: 0.3291 - accuracy: 0.8471 - val_loss: 0.4344 - val_accuracy: 0.7944\n",
            "Epoch 49/70\n",
            "269651/269651 [==============================] - 6s 20us/step - loss: 0.3286 - accuracy: 0.8462 - val_loss: 0.4374 - val_accuracy: 0.7963\n",
            "Epoch 50/70\n",
            "269651/269651 [==============================] - 5s 20us/step - loss: 0.3269 - accuracy: 0.8484 - val_loss: 0.4429 - val_accuracy: 0.7958\n",
            "Epoch 51/70\n",
            "269651/269651 [==============================] - 5s 19us/step - loss: 0.3259 - accuracy: 0.8486 - val_loss: 0.4415 - val_accuracy: 0.7962\n",
            "Epoch 52/70\n",
            "269651/269651 [==============================] - 5s 19us/step - loss: 0.3254 - accuracy: 0.8488 - val_loss: 0.4388 - val_accuracy: 0.7973\n",
            "Epoch 53/70\n",
            "269651/269651 [==============================] - 5s 19us/step - loss: 0.3246 - accuracy: 0.8492 - val_loss: 0.4441 - val_accuracy: 0.7968\n",
            "Epoch 54/70\n",
            "269651/269651 [==============================] - 5s 20us/step - loss: 0.3221 - accuracy: 0.8507 - val_loss: 0.4381 - val_accuracy: 0.7959\n",
            "Epoch 55/70\n",
            "269651/269651 [==============================] - 5s 20us/step - loss: 0.3205 - accuracy: 0.8514 - val_loss: 0.4414 - val_accuracy: 0.7958\n",
            "Epoch 56/70\n",
            "269651/269651 [==============================] - 5s 19us/step - loss: 0.3200 - accuracy: 0.8524 - val_loss: 0.4374 - val_accuracy: 0.7953\n",
            "Epoch 57/70\n",
            "269651/269651 [==============================] - 5s 19us/step - loss: 0.3178 - accuracy: 0.8530 - val_loss: 0.4437 - val_accuracy: 0.7969\n",
            "Epoch 58/70\n",
            "269651/269651 [==============================] - 5s 19us/step - loss: 0.3180 - accuracy: 0.8538 - val_loss: 0.4520 - val_accuracy: 0.7964\n",
            "Epoch 59/70\n",
            "269651/269651 [==============================] - 5s 19us/step - loss: 0.3170 - accuracy: 0.8536 - val_loss: 0.4406 - val_accuracy: 0.7964\n",
            "Epoch 60/70\n",
            "269651/269651 [==============================] - 5s 19us/step - loss: 0.3145 - accuracy: 0.8551 - val_loss: 0.4373 - val_accuracy: 0.7973\n",
            "Epoch 61/70\n",
            "269651/269651 [==============================] - 5s 19us/step - loss: 0.3151 - accuracy: 0.8542 - val_loss: 0.4420 - val_accuracy: 0.7950\n",
            "Epoch 62/70\n",
            "269651/269651 [==============================] - 5s 19us/step - loss: 0.3142 - accuracy: 0.8559 - val_loss: 0.4426 - val_accuracy: 0.7901\n",
            "Epoch 63/70\n",
            "269651/269651 [==============================] - 5s 19us/step - loss: 0.3123 - accuracy: 0.8559 - val_loss: 0.4415 - val_accuracy: 0.7966\n",
            "Epoch 64/70\n",
            "269651/269651 [==============================] - 5s 19us/step - loss: 0.3121 - accuracy: 0.8561 - val_loss: 0.4437 - val_accuracy: 0.7958\n",
            "Epoch 65/70\n",
            "269651/269651 [==============================] - 5s 19us/step - loss: 0.3083 - accuracy: 0.8583 - val_loss: 0.4525 - val_accuracy: 0.7981\n",
            "Epoch 66/70\n",
            "269651/269651 [==============================] - 5s 19us/step - loss: 0.3089 - accuracy: 0.8578 - val_loss: 0.4526 - val_accuracy: 0.7964\n",
            "Epoch 67/70\n",
            "269651/269651 [==============================] - 5s 19us/step - loss: 0.3100 - accuracy: 0.8579 - val_loss: 0.4446 - val_accuracy: 0.7979\n",
            "Epoch 68/70\n",
            "269651/269651 [==============================] - 5s 19us/step - loss: 0.3061 - accuracy: 0.8600 - val_loss: 0.4444 - val_accuracy: 0.7972\n",
            "Epoch 69/70\n",
            "269651/269651 [==============================] - 5s 19us/step - loss: 0.3059 - accuracy: 0.8593 - val_loss: 0.4500 - val_accuracy: 0.7985\n",
            "Epoch 70/70\n",
            "269651/269651 [==============================] - 5s 19us/step - loss: 0.3044 - accuracy: 0.8601 - val_loss: 0.4537 - val_accuracy: 0.7974\n"
          ],
          "name": "stdout"
        }
      ]
    },
    {
      "cell_type": "code",
      "metadata": {
        "id": "ad7xrMy5rYnb",
        "colab_type": "code",
        "colab": {}
      },
      "source": [
        "model.save_weights('/content/drive/My Drive/Quora Questions Project/qqpairs_fcnn.h5') "
      ],
      "execution_count": 0,
      "outputs": []
    },
    {
      "cell_type": "code",
      "metadata": {
        "id": "SF4GfDIHsX-c",
        "colab_type": "code",
        "colab": {
          "base_uri": "https://localhost:8080/",
          "height": 533
        },
        "outputId": "b3082287-86cd-40b2-e992-567589f378cd"
      },
      "source": [
        "plt.plot(r.history['loss'], label='loss')\n",
        "plt.plot(r.history['val_loss'], label='val_loss')\n",
        "plt.legend()\n",
        "plt.show()\n",
        "\n",
        "# accuracies\n",
        "plt.plot(r.history['accuracy'], label='acc')\n",
        "plt.plot(r.history['val_accuracy'], label='val_acc')\n",
        "plt.legend()\n",
        "plt.show() "
      ],
      "execution_count": 170,
      "outputs": [
        {
          "output_type": "display_data",
          "data": {
            "image/png": "[encoded data removed]",
            "text/plain": [
              "<Figure size 432x288 with 1 Axes>"
            ]
          },
          "metadata": {
            "tags": [],
            "needs_background": "light"
          }
        },
        {
          "output_type": "display_data",
          "data": {
            "image/png": "[encoded data removed]",
            "text/plain": [
              "<Figure size 432x288 with 1 Axes>"
            ]
          },
          "metadata": {
            "tags": [],
            "needs_background": "light"
          }
        }
      ]
    },
    {
      "cell_type": "markdown",
      "metadata": {
        "id": "bi74NlDeAx3J",
        "colab_type": "text"
      },
      "source": [
        "We observe that there is no noticeable increase in the validation loss as the number of training epochs increases. This is due to regularization using Dropout. As seen below, the test accuracy has also improved as a result."
      ]
    },
    {
      "cell_type": "code",
      "metadata": {
        "id": "BVQexeA-fVCb",
        "colab_type": "code",
        "colab": {
          "base_uri": "https://localhost:8080/",
          "height": 74
        },
        "outputId": "3fbe7643-4f8e-4537-96df-0b8c3ba71e4c"
      },
      "source": [
        "y_preds = model.predict(X_test)\n",
        "crr=0\n",
        "thresh = 0.49\n",
        "for i in range(len(y_preds)):\n",
        "    if y_preds[i]>=thresh:\n",
        "        if y_test[i]==1:\n",
        "            crr+=1\n",
        "    else:\n",
        "        if y_test[i]==0:\n",
        "            crr+=1\n",
        "print(\"Accuracy = {}%\".format(100*np.round(crr/len(y_preds),4)))"
      ],
      "execution_count": 183,
      "outputs": [
        {
          "output_type": "stream",
          "text": [
            "Accuracy = 79.67%\n"
          ],
          "name": "stdout"
        }
      ]
    },
    {
      "cell_type": "markdown",
      "metadata": {
        "id": "RuFTgV4S1wwv",
        "colab_type": "text"
      },
      "source": [
        "### **Final Model details**\n",
        "\n",
        "- 3 hidden layers - each of size 300\n",
        "- Dropout = 0.1\n",
        "- Learning rate = 0.001\n",
        "- Sigmoid activation for all layers\n",
        "- Adam algorithm for training\n",
        "\n",
        "### **Final model accuracies**\n",
        "- Training accuracy = 86.01%\n",
        "- Test accuracy = 79.67%\n"
      ]
    }
  ]
}